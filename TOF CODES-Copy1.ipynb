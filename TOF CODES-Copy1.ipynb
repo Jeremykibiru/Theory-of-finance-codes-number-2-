{
 "cells": [
  {
   "cell_type": "code",
   "execution_count": 28,
   "metadata": {},
   "outputs": [],
   "source": [
    "import pandas as pd"
   ]
  },
  {
   "cell_type": "code",
   "execution_count": 29,
   "metadata": {},
   "outputs": [],
   "source": [
    "import numpy as np"
   ]
  },
  {
   "cell_type": "code",
   "execution_count": 30,
   "metadata": {},
   "outputs": [],
   "source": [
    "import scipy.optimize as sco"
   ]
  },
  {
   "cell_type": "code",
   "execution_count": 31,
   "metadata": {},
   "outputs": [],
   "source": [
    "import matplotlib.pyplot as plt"
   ]
  },
  {
   "cell_type": "code",
   "execution_count": 32,
   "metadata": {},
   "outputs": [
    {
     "data": {
      "text/plain": [
       "'C:\\\\Users\\\\jerem\\\\Desktop\\\\TOF grp work codes'"
      ]
     },
     "execution_count": 32,
     "metadata": {},
     "output_type": "execute_result"
    }
   ],
   "source": [
    "%pwd"
   ]
  },
  {
   "cell_type": "code",
   "execution_count": null,
   "metadata": {},
   "outputs": [],
   "source": []
  },
  {
   "cell_type": "code",
   "execution_count": 33,
   "metadata": {},
   "outputs": [
    {
     "name": "stdout",
     "output_type": "stream",
     "text": [
      "C:\\Users\\jerem\\Desktop\\TOF grp work codes\n"
     ]
    }
   ],
   "source": [
    "cd C:/Users/jerem/Desktop/TOF grp work codes"
   ]
  },
  {
   "cell_type": "code",
   "execution_count": 34,
   "metadata": {},
   "outputs": [],
   "source": [
    "tofdata1 = pd.read_excel(\"tofdata2.xlsx\", index_col = \"date\")"
   ]
  },
  {
   "cell_type": "code",
   "execution_count": 35,
   "metadata": {},
   "outputs": [
    {
     "data": {
      "text/html": [
       "<div>\n",
       "<style scoped>\n",
       "    .dataframe tbody tr th:only-of-type {\n",
       "        vertical-align: middle;\n",
       "    }\n",
       "\n",
       "    .dataframe tbody tr th {\n",
       "        vertical-align: top;\n",
       "    }\n",
       "\n",
       "    .dataframe thead th {\n",
       "        text-align: right;\n",
       "    }\n",
       "</style>\n",
       "<table border=\"1\" class=\"dataframe\">\n",
       "  <thead>\n",
       "    <tr style=\"text-align: right;\">\n",
       "      <th></th>\n",
       "      <th>BBK.NR</th>\n",
       "      <th>FIRE.NR</th>\n",
       "      <th>HFCK.NR</th>\n",
       "      <th>ICDC.NR</th>\n",
       "      <th>JUB.NR</th>\n",
       "      <th>KCB.NR</th>\n",
       "      <th>KPLC.NR</th>\n",
       "      <th>NMG.NR</th>\n",
       "      <th>SCBK.NR</th>\n",
       "      <th>TOTL.NR</th>\n",
       "    </tr>\n",
       "    <tr>\n",
       "      <th>date</th>\n",
       "      <th></th>\n",
       "      <th></th>\n",
       "      <th></th>\n",
       "      <th></th>\n",
       "      <th></th>\n",
       "      <th></th>\n",
       "      <th></th>\n",
       "      <th></th>\n",
       "      <th></th>\n",
       "      <th></th>\n",
       "    </tr>\n",
       "  </thead>\n",
       "  <tbody>\n",
       "    <tr>\n",
       "      <th>2001-01-02</th>\n",
       "      <td>2.81250</td>\n",
       "      <td>NaN</td>\n",
       "      <td>4.494319</td>\n",
       "      <td>3.842976</td>\n",
       "      <td>11.33182</td>\n",
       "      <td>2.456923</td>\n",
       "      <td>NaN</td>\n",
       "      <td>25.946962</td>\n",
       "      <td>43.534632</td>\n",
       "      <td>54.0</td>\n",
       "    </tr>\n",
       "    <tr>\n",
       "      <th>2001-01-03</th>\n",
       "      <td>2.83125</td>\n",
       "      <td>11.55</td>\n",
       "      <td>4.613637</td>\n",
       "      <td>3.904959</td>\n",
       "      <td>11.48705</td>\n",
       "      <td>2.456923</td>\n",
       "      <td>NaN</td>\n",
       "      <td>25.946962</td>\n",
       "      <td>43.965668</td>\n",
       "      <td>53.5</td>\n",
       "    </tr>\n",
       "    <tr>\n",
       "      <th>2001-01-04</th>\n",
       "      <td>2.86875</td>\n",
       "      <td>11.70</td>\n",
       "      <td>NaN</td>\n",
       "      <td>3.884298</td>\n",
       "      <td>NaN</td>\n",
       "      <td>2.456923</td>\n",
       "      <td>NaN</td>\n",
       "      <td>25.946962</td>\n",
       "      <td>45.258776</td>\n",
       "      <td>NaN</td>\n",
       "    </tr>\n",
       "    <tr>\n",
       "      <th>2001-01-05</th>\n",
       "      <td>2.92500</td>\n",
       "      <td>11.65</td>\n",
       "      <td>4.454546</td>\n",
       "      <td>3.863637</td>\n",
       "      <td>11.48705</td>\n",
       "      <td>2.480777</td>\n",
       "      <td>NaN</td>\n",
       "      <td>25.378780</td>\n",
       "      <td>45.258776</td>\n",
       "      <td>49.0</td>\n",
       "    </tr>\n",
       "  </tbody>\n",
       "</table>\n",
       "</div>"
      ],
      "text/plain": [
       "             BBK.NR  FIRE.NR   HFCK.NR   ICDC.NR    JUB.NR    KCB.NR  KPLC.NR  \\\n",
       "date                                                                            \n",
       "2001-01-02  2.81250      NaN  4.494319  3.842976  11.33182  2.456923      NaN   \n",
       "2001-01-03  2.83125    11.55  4.613637  3.904959  11.48705  2.456923      NaN   \n",
       "2001-01-04  2.86875    11.70       NaN  3.884298       NaN  2.456923      NaN   \n",
       "2001-01-05  2.92500    11.65  4.454546  3.863637  11.48705  2.480777      NaN   \n",
       "\n",
       "               NMG.NR    SCBK.NR  TOTL.NR  \n",
       "date                                       \n",
       "2001-01-02  25.946962  43.534632     54.0  \n",
       "2001-01-03  25.946962  43.965668     53.5  \n",
       "2001-01-04  25.946962  45.258776      NaN  \n",
       "2001-01-05  25.378780  45.258776     49.0  "
      ]
     },
     "execution_count": 35,
     "metadata": {},
     "output_type": "execute_result"
    }
   ],
   "source": [
    "tofdata1.head(n= 4)"
   ]
  },
  {
   "cell_type": "code",
   "execution_count": 36,
   "metadata": {},
   "outputs": [],
   "source": [
    "tofdata1 = tofdata1.ffill()"
   ]
  },
  {
   "cell_type": "code",
   "execution_count": 37,
   "metadata": {},
   "outputs": [],
   "source": [
    "#####for computing the stock log prices"
   ]
  },
  {
   "cell_type": "code",
   "execution_count": 38,
   "metadata": {},
   "outputs": [],
   "source": [
    "tofdata1['BBK log prices'] = np.log(tofdata1['BBK.NR'])\n",
    "tofdata1['FIRE log prices'] = np.log(tofdata1['FIRE.NR'])\n",
    "\n",
    "tofdata1['HFCK log prices']= np.log(tofdata1['HFCK.NR'])\n",
    "\n",
    "tofdata1['ICDC log prices'] = np.log(tofdata1['ICDC.NR'])\n",
    "\n",
    "tofdata1['JUB log prices'] = np.log(tofdata1['JUB.NR'])\n",
    "\n",
    "tofdata1['KCB log prices'] =np.log(tofdata1['KCB.NR'])\n",
    "\n",
    "tofdata1['KPLC log prices'] = np.log(tofdata1['KPLC.NR'])\n",
    "\n",
    "tofdata1['NMG log prices']= np.log(tofdata1['NMG.NR'])\n",
    "\n",
    "tofdata1['SCBK log prices'] = np.log(tofdata1['SCBK.NR'])\n",
    "\n",
    "tofdata1['TOTL log prices'] = np.log(tofdata1['TOTL.NR'])"
   ]
  },
  {
   "cell_type": "code",
   "execution_count": 39,
   "metadata": {},
   "outputs": [
    {
     "data": {
      "text/html": [
       "<div>\n",
       "<style scoped>\n",
       "    .dataframe tbody tr th:only-of-type {\n",
       "        vertical-align: middle;\n",
       "    }\n",
       "\n",
       "    .dataframe tbody tr th {\n",
       "        vertical-align: top;\n",
       "    }\n",
       "\n",
       "    .dataframe thead th {\n",
       "        text-align: right;\n",
       "    }\n",
       "</style>\n",
       "<table border=\"1\" class=\"dataframe\">\n",
       "  <thead>\n",
       "    <tr style=\"text-align: right;\">\n",
       "      <th></th>\n",
       "      <th>BBK.NR</th>\n",
       "      <th>FIRE.NR</th>\n",
       "      <th>HFCK.NR</th>\n",
       "      <th>ICDC.NR</th>\n",
       "      <th>JUB.NR</th>\n",
       "      <th>KCB.NR</th>\n",
       "      <th>KPLC.NR</th>\n",
       "      <th>NMG.NR</th>\n",
       "      <th>SCBK.NR</th>\n",
       "      <th>TOTL.NR</th>\n",
       "      <th>BBK log prices</th>\n",
       "      <th>FIRE log prices</th>\n",
       "      <th>HFCK log prices</th>\n",
       "      <th>ICDC log prices</th>\n",
       "      <th>JUB log prices</th>\n",
       "      <th>KCB log prices</th>\n",
       "      <th>KPLC log prices</th>\n",
       "      <th>NMG log prices</th>\n",
       "      <th>SCBK log prices</th>\n",
       "      <th>TOTL log prices</th>\n",
       "    </tr>\n",
       "    <tr>\n",
       "      <th>date</th>\n",
       "      <th></th>\n",
       "      <th></th>\n",
       "      <th></th>\n",
       "      <th></th>\n",
       "      <th></th>\n",
       "      <th></th>\n",
       "      <th></th>\n",
       "      <th></th>\n",
       "      <th></th>\n",
       "      <th></th>\n",
       "      <th></th>\n",
       "      <th></th>\n",
       "      <th></th>\n",
       "      <th></th>\n",
       "      <th></th>\n",
       "      <th></th>\n",
       "      <th></th>\n",
       "      <th></th>\n",
       "      <th></th>\n",
       "      <th></th>\n",
       "    </tr>\n",
       "  </thead>\n",
       "  <tbody>\n",
       "    <tr>\n",
       "      <th>2001-01-02</th>\n",
       "      <td>2.81250</td>\n",
       "      <td>NaN</td>\n",
       "      <td>4.494319</td>\n",
       "      <td>3.842976</td>\n",
       "      <td>11.33182</td>\n",
       "      <td>2.456923</td>\n",
       "      <td>NaN</td>\n",
       "      <td>25.946962</td>\n",
       "      <td>43.534632</td>\n",
       "      <td>54.0</td>\n",
       "      <td>1.034074</td>\n",
       "      <td>NaN</td>\n",
       "      <td>1.502814</td>\n",
       "      <td>1.346247</td>\n",
       "      <td>2.427615</td>\n",
       "      <td>0.89891</td>\n",
       "      <td>NaN</td>\n",
       "      <td>3.256055</td>\n",
       "      <td>3.773557</td>\n",
       "      <td>3.988984</td>\n",
       "    </tr>\n",
       "    <tr>\n",
       "      <th>2001-01-03</th>\n",
       "      <td>2.83125</td>\n",
       "      <td>11.55</td>\n",
       "      <td>4.613637</td>\n",
       "      <td>3.904959</td>\n",
       "      <td>11.48705</td>\n",
       "      <td>2.456923</td>\n",
       "      <td>NaN</td>\n",
       "      <td>25.946962</td>\n",
       "      <td>43.965668</td>\n",
       "      <td>53.5</td>\n",
       "      <td>1.040718</td>\n",
       "      <td>2.446685</td>\n",
       "      <td>1.529016</td>\n",
       "      <td>1.362247</td>\n",
       "      <td>2.441220</td>\n",
       "      <td>0.89891</td>\n",
       "      <td>NaN</td>\n",
       "      <td>3.256055</td>\n",
       "      <td>3.783409</td>\n",
       "      <td>3.979682</td>\n",
       "    </tr>\n",
       "    <tr>\n",
       "      <th>2001-01-04</th>\n",
       "      <td>2.86875</td>\n",
       "      <td>11.70</td>\n",
       "      <td>4.613637</td>\n",
       "      <td>3.884298</td>\n",
       "      <td>11.48705</td>\n",
       "      <td>2.456923</td>\n",
       "      <td>NaN</td>\n",
       "      <td>25.946962</td>\n",
       "      <td>45.258776</td>\n",
       "      <td>53.5</td>\n",
       "      <td>1.053876</td>\n",
       "      <td>2.459589</td>\n",
       "      <td>1.529016</td>\n",
       "      <td>1.356942</td>\n",
       "      <td>2.441220</td>\n",
       "      <td>0.89891</td>\n",
       "      <td>NaN</td>\n",
       "      <td>3.256055</td>\n",
       "      <td>3.812397</td>\n",
       "      <td>3.979682</td>\n",
       "    </tr>\n",
       "  </tbody>\n",
       "</table>\n",
       "</div>"
      ],
      "text/plain": [
       "             BBK.NR  FIRE.NR   HFCK.NR   ICDC.NR    JUB.NR    KCB.NR  KPLC.NR  \\\n",
       "date                                                                            \n",
       "2001-01-02  2.81250      NaN  4.494319  3.842976  11.33182  2.456923      NaN   \n",
       "2001-01-03  2.83125    11.55  4.613637  3.904959  11.48705  2.456923      NaN   \n",
       "2001-01-04  2.86875    11.70  4.613637  3.884298  11.48705  2.456923      NaN   \n",
       "\n",
       "               NMG.NR    SCBK.NR  TOTL.NR  BBK log prices  FIRE log prices  \\\n",
       "date                                                                         \n",
       "2001-01-02  25.946962  43.534632     54.0        1.034074              NaN   \n",
       "2001-01-03  25.946962  43.965668     53.5        1.040718         2.446685   \n",
       "2001-01-04  25.946962  45.258776     53.5        1.053876         2.459589   \n",
       "\n",
       "            HFCK log prices  ICDC log prices  JUB log prices  KCB log prices  \\\n",
       "date                                                                           \n",
       "2001-01-02         1.502814         1.346247        2.427615         0.89891   \n",
       "2001-01-03         1.529016         1.362247        2.441220         0.89891   \n",
       "2001-01-04         1.529016         1.356942        2.441220         0.89891   \n",
       "\n",
       "            KPLC log prices  NMG log prices  SCBK log prices  TOTL log prices  \n",
       "date                                                                           \n",
       "2001-01-02              NaN        3.256055         3.773557         3.988984  \n",
       "2001-01-03              NaN        3.256055         3.783409         3.979682  \n",
       "2001-01-04              NaN        3.256055         3.812397         3.979682  "
      ]
     },
     "execution_count": 39,
     "metadata": {},
     "output_type": "execute_result"
    }
   ],
   "source": [
    "tofdata1.head(3)"
   ]
  },
  {
   "cell_type": "code",
   "execution_count": 40,
   "metadata": {},
   "outputs": [],
   "source": [
    "tofdata1 = tofdata1.ffill().bfill()"
   ]
  },
  {
   "cell_type": "code",
   "execution_count": 41,
   "metadata": {},
   "outputs": [],
   "source": [
    "#####for computing the log returns of the stocks"
   ]
  },
  {
   "cell_type": "code",
   "execution_count": 42,
   "metadata": {},
   "outputs": [],
   "source": [
    "tofdata1['BBK log returns'] = np.log(tofdata1['BBK.NR']) - np.log(tofdata1['BBK.NR'].shift(1))\n",
    "tofdata1['FIRE log returns'] = np.log(tofdata1['FIRE.NR']) - np.log(tofdata1['FIRE.NR'].shift(1))\n",
    "\n",
    "tofdata1['HFCK log returns'] = np.log(tofdata1['HFCK.NR']) - np.log(tofdata1['HFCK.NR'].shift(1))\n",
    "\n",
    "tofdata1['JUB log returns'] = np.log(tofdata1['JUB.NR']) - np.log(tofdata1['JUB.NR'].shift(1))\n",
    "\n",
    "tofdata1['KCB log returns']=  np.log(tofdata1['KCB.NR']) - np.log(tofdata1['KCB.NR'].shift(1))\n",
    "\n",
    "tofdata1['ICDC log returns'] = np.log(tofdata1['ICDC.NR']) - np.log(tofdata1['ICDC.NR'].shift(1))\n",
    "\n",
    "tofdata1['KPLC log returns'] = np.log(tofdata1['KPLC.NR']) - np.log(tofdata1['KPLC.NR'].shift(1))\n",
    "\n",
    "tofdata1['NMG log returns'] = np.log(tofdata1['NMG.NR']) - np.log(tofdata1['NMG.NR'].shift(1))\n",
    "\n",
    "tofdata1['SCBK log returns'] = np.log(tofdata1['SCBK.NR']) - np.log(tofdata1['SCBK.NR'].shift(1))\n",
    "\n",
    "tofdata1['TOTL log returns'] = np.log(tofdata1['TOTL.NR']) - np.log(tofdata1['TOTL.NR'].shift(1))"
   ]
  },
  {
   "cell_type": "code",
   "execution_count": 43,
   "metadata": {},
   "outputs": [],
   "source": [
    "#####for computing normal returns columns in the tofdata1"
   ]
  },
  {
   "cell_type": "code",
   "execution_count": 44,
   "metadata": {},
   "outputs": [],
   "source": [
    "tofdata1['BBK simple returns'] = tofdata1['BBK.NR'].pct_change()\n",
    "tofdata1['FIRE simple returns'] = tofdata1['FIRE.NR'].pct_change()\n",
    "\n",
    "tofdata1['HFCK simple returns'] = tofdata1['HFCK.NR'].pct_change()\n",
    "\n",
    "tofdata1['JUB simple returns'] = tofdata1['JUB.NR'].pct_change()\n",
    "\n",
    "tofdata1['KCB simple returns'] = tofdata1['KCB.NR'].pct_change()\n",
    "\n",
    "tofdata1['ICDC simple returns'] = tofdata1['ICDC.NR'].pct_change()\n",
    "\n",
    "tofdata1['KPLC simple returns'] = tofdata1['KPLC.NR'].pct_change()\n",
    "\n",
    "tofdata1['NMG simple returns'] = tofdata1['NMG.NR'].pct_change()\n",
    "\n",
    "tofdata1['SCBK simple returns'] = tofdata1[\"SCBK.NR\"].pct_change()\n",
    "\n",
    "tofdata1['TOTL simple returns'] = tofdata1['TOTL.NR'].pct_change()"
   ]
  },
  {
   "cell_type": "code",
   "execution_count": 45,
   "metadata": {},
   "outputs": [
    {
     "data": {
      "text/html": [
       "<div>\n",
       "<style scoped>\n",
       "    .dataframe tbody tr th:only-of-type {\n",
       "        vertical-align: middle;\n",
       "    }\n",
       "\n",
       "    .dataframe tbody tr th {\n",
       "        vertical-align: top;\n",
       "    }\n",
       "\n",
       "    .dataframe thead th {\n",
       "        text-align: right;\n",
       "    }\n",
       "</style>\n",
       "<table border=\"1\" class=\"dataframe\">\n",
       "  <thead>\n",
       "    <tr style=\"text-align: right;\">\n",
       "      <th></th>\n",
       "      <th>BBK.NR</th>\n",
       "      <th>FIRE.NR</th>\n",
       "      <th>HFCK.NR</th>\n",
       "      <th>ICDC.NR</th>\n",
       "      <th>JUB.NR</th>\n",
       "      <th>KCB.NR</th>\n",
       "      <th>KPLC.NR</th>\n",
       "      <th>NMG.NR</th>\n",
       "      <th>SCBK.NR</th>\n",
       "      <th>TOTL.NR</th>\n",
       "      <th>...</th>\n",
       "      <th>BBK simple returns</th>\n",
       "      <th>FIRE simple returns</th>\n",
       "      <th>HFCK simple returns</th>\n",
       "      <th>JUB simple returns</th>\n",
       "      <th>KCB simple returns</th>\n",
       "      <th>ICDC simple returns</th>\n",
       "      <th>KPLC simple returns</th>\n",
       "      <th>NMG simple returns</th>\n",
       "      <th>SCBK simple returns</th>\n",
       "      <th>TOTL simple returns</th>\n",
       "    </tr>\n",
       "    <tr>\n",
       "      <th>date</th>\n",
       "      <th></th>\n",
       "      <th></th>\n",
       "      <th></th>\n",
       "      <th></th>\n",
       "      <th></th>\n",
       "      <th></th>\n",
       "      <th></th>\n",
       "      <th></th>\n",
       "      <th></th>\n",
       "      <th></th>\n",
       "      <th></th>\n",
       "      <th></th>\n",
       "      <th></th>\n",
       "      <th></th>\n",
       "      <th></th>\n",
       "      <th></th>\n",
       "      <th></th>\n",
       "      <th></th>\n",
       "      <th></th>\n",
       "      <th></th>\n",
       "      <th></th>\n",
       "    </tr>\n",
       "  </thead>\n",
       "  <tbody>\n",
       "    <tr>\n",
       "      <th>2001-01-02</th>\n",
       "      <td>2.81250</td>\n",
       "      <td>11.55</td>\n",
       "      <td>4.494319</td>\n",
       "      <td>3.842976</td>\n",
       "      <td>11.33182</td>\n",
       "      <td>2.456923</td>\n",
       "      <td>4.199498</td>\n",
       "      <td>25.946962</td>\n",
       "      <td>43.534632</td>\n",
       "      <td>54.0</td>\n",
       "      <td>...</td>\n",
       "      <td>NaN</td>\n",
       "      <td>NaN</td>\n",
       "      <td>NaN</td>\n",
       "      <td>NaN</td>\n",
       "      <td>NaN</td>\n",
       "      <td>NaN</td>\n",
       "      <td>NaN</td>\n",
       "      <td>NaN</td>\n",
       "      <td>NaN</td>\n",
       "      <td>NaN</td>\n",
       "    </tr>\n",
       "    <tr>\n",
       "      <th>2001-01-03</th>\n",
       "      <td>2.83125</td>\n",
       "      <td>11.55</td>\n",
       "      <td>4.613637</td>\n",
       "      <td>3.904959</td>\n",
       "      <td>11.48705</td>\n",
       "      <td>2.456923</td>\n",
       "      <td>4.199498</td>\n",
       "      <td>25.946962</td>\n",
       "      <td>43.965668</td>\n",
       "      <td>53.5</td>\n",
       "      <td>...</td>\n",
       "      <td>0.006667</td>\n",
       "      <td>0.000000</td>\n",
       "      <td>0.026549</td>\n",
       "      <td>0.013699</td>\n",
       "      <td>0.000000</td>\n",
       "      <td>0.016129</td>\n",
       "      <td>0.0</td>\n",
       "      <td>0.000000</td>\n",
       "      <td>0.009901</td>\n",
       "      <td>-0.009259</td>\n",
       "    </tr>\n",
       "    <tr>\n",
       "      <th>2001-01-04</th>\n",
       "      <td>2.86875</td>\n",
       "      <td>11.70</td>\n",
       "      <td>4.613637</td>\n",
       "      <td>3.884298</td>\n",
       "      <td>11.48705</td>\n",
       "      <td>2.456923</td>\n",
       "      <td>4.199498</td>\n",
       "      <td>25.946962</td>\n",
       "      <td>45.258776</td>\n",
       "      <td>53.5</td>\n",
       "      <td>...</td>\n",
       "      <td>0.013245</td>\n",
       "      <td>0.012987</td>\n",
       "      <td>0.000000</td>\n",
       "      <td>0.000000</td>\n",
       "      <td>0.000000</td>\n",
       "      <td>-0.005291</td>\n",
       "      <td>0.0</td>\n",
       "      <td>0.000000</td>\n",
       "      <td>0.029412</td>\n",
       "      <td>0.000000</td>\n",
       "    </tr>\n",
       "    <tr>\n",
       "      <th>2001-01-05</th>\n",
       "      <td>2.92500</td>\n",
       "      <td>11.65</td>\n",
       "      <td>4.454546</td>\n",
       "      <td>3.863637</td>\n",
       "      <td>11.48705</td>\n",
       "      <td>2.480777</td>\n",
       "      <td>4.199498</td>\n",
       "      <td>25.378780</td>\n",
       "      <td>45.258776</td>\n",
       "      <td>49.0</td>\n",
       "      <td>...</td>\n",
       "      <td>0.019608</td>\n",
       "      <td>-0.004274</td>\n",
       "      <td>-0.034483</td>\n",
       "      <td>0.000000</td>\n",
       "      <td>0.009709</td>\n",
       "      <td>-0.005319</td>\n",
       "      <td>0.0</td>\n",
       "      <td>-0.021898</td>\n",
       "      <td>0.000000</td>\n",
       "      <td>-0.084112</td>\n",
       "    </tr>\n",
       "  </tbody>\n",
       "</table>\n",
       "<p>4 rows × 40 columns</p>\n",
       "</div>"
      ],
      "text/plain": [
       "             BBK.NR  FIRE.NR   HFCK.NR   ICDC.NR    JUB.NR    KCB.NR  \\\n",
       "date                                                                   \n",
       "2001-01-02  2.81250    11.55  4.494319  3.842976  11.33182  2.456923   \n",
       "2001-01-03  2.83125    11.55  4.613637  3.904959  11.48705  2.456923   \n",
       "2001-01-04  2.86875    11.70  4.613637  3.884298  11.48705  2.456923   \n",
       "2001-01-05  2.92500    11.65  4.454546  3.863637  11.48705  2.480777   \n",
       "\n",
       "             KPLC.NR     NMG.NR    SCBK.NR  TOTL.NR  ...  BBK simple returns  \\\n",
       "date                                                 ...                       \n",
       "2001-01-02  4.199498  25.946962  43.534632     54.0  ...                 NaN   \n",
       "2001-01-03  4.199498  25.946962  43.965668     53.5  ...            0.006667   \n",
       "2001-01-04  4.199498  25.946962  45.258776     53.5  ...            0.013245   \n",
       "2001-01-05  4.199498  25.378780  45.258776     49.0  ...            0.019608   \n",
       "\n",
       "            FIRE simple returns  HFCK simple returns  JUB simple returns  \\\n",
       "date                                                                       \n",
       "2001-01-02                  NaN                  NaN                 NaN   \n",
       "2001-01-03             0.000000             0.026549            0.013699   \n",
       "2001-01-04             0.012987             0.000000            0.000000   \n",
       "2001-01-05            -0.004274            -0.034483            0.000000   \n",
       "\n",
       "            KCB simple returns  ICDC simple returns  KPLC simple returns  \\\n",
       "date                                                                       \n",
       "2001-01-02                 NaN                  NaN                  NaN   \n",
       "2001-01-03            0.000000             0.016129                  0.0   \n",
       "2001-01-04            0.000000            -0.005291                  0.0   \n",
       "2001-01-05            0.009709            -0.005319                  0.0   \n",
       "\n",
       "            NMG simple returns  SCBK simple returns  TOTL simple returns  \n",
       "date                                                                      \n",
       "2001-01-02                 NaN                  NaN                  NaN  \n",
       "2001-01-03            0.000000             0.009901            -0.009259  \n",
       "2001-01-04            0.000000             0.029412             0.000000  \n",
       "2001-01-05           -0.021898             0.000000            -0.084112  \n",
       "\n",
       "[4 rows x 40 columns]"
      ]
     },
     "execution_count": 45,
     "metadata": {},
     "output_type": "execute_result"
    }
   ],
   "source": [
    "tofdata1.head(4)"
   ]
  },
  {
   "cell_type": "code",
   "execution_count": 46,
   "metadata": {},
   "outputs": [],
   "source": [
    "tofdata1 = tofdata1.ffill().bfill()"
   ]
  },
  {
   "cell_type": "code",
   "execution_count": null,
   "metadata": {},
   "outputs": [],
   "source": []
  },
  {
   "cell_type": "code",
   "execution_count": 47,
   "metadata": {},
   "outputs": [],
   "source": [
    "######plotting the log prices and simple stock prices"
   ]
  },
  {
   "cell_type": "code",
   "execution_count": 48,
   "metadata": {},
   "outputs": [],
   "source": [
    "####(A) plotting the simple stock prices"
   ]
  },
  {
   "cell_type": "code",
   "execution_count": 49,
   "metadata": {},
   "outputs": [],
   "source": [
    "import matplotlib.pyplot as plt"
   ]
  },
  {
   "cell_type": "code",
   "execution_count": 50,
   "metadata": {},
   "outputs": [],
   "source": [
    "simplepricedataframe = tofdata1[['BBK.NR','FIRE.NR','HFCK.NR','ICDC.NR','JUB.NR','KCB.NR','KPLC.NR','NMG.NR','SCBK.NR','TOTL.NR']].copy()"
   ]
  },
  {
   "cell_type": "code",
   "execution_count": 51,
   "metadata": {},
   "outputs": [
    {
     "data": {
      "text/html": [
       "<div>\n",
       "<style scoped>\n",
       "    .dataframe tbody tr th:only-of-type {\n",
       "        vertical-align: middle;\n",
       "    }\n",
       "\n",
       "    .dataframe tbody tr th {\n",
       "        vertical-align: top;\n",
       "    }\n",
       "\n",
       "    .dataframe thead th {\n",
       "        text-align: right;\n",
       "    }\n",
       "</style>\n",
       "<table border=\"1\" class=\"dataframe\">\n",
       "  <thead>\n",
       "    <tr style=\"text-align: right;\">\n",
       "      <th></th>\n",
       "      <th>BBK.NR</th>\n",
       "      <th>FIRE.NR</th>\n",
       "      <th>HFCK.NR</th>\n",
       "      <th>ICDC.NR</th>\n",
       "      <th>JUB.NR</th>\n",
       "      <th>KCB.NR</th>\n",
       "      <th>KPLC.NR</th>\n",
       "      <th>NMG.NR</th>\n",
       "      <th>SCBK.NR</th>\n",
       "      <th>TOTL.NR</th>\n",
       "    </tr>\n",
       "    <tr>\n",
       "      <th>date</th>\n",
       "      <th></th>\n",
       "      <th></th>\n",
       "      <th></th>\n",
       "      <th></th>\n",
       "      <th></th>\n",
       "      <th></th>\n",
       "      <th></th>\n",
       "      <th></th>\n",
       "      <th></th>\n",
       "      <th></th>\n",
       "    </tr>\n",
       "  </thead>\n",
       "  <tbody>\n",
       "    <tr>\n",
       "      <th>2001-01-02</th>\n",
       "      <td>2.81250</td>\n",
       "      <td>11.55</td>\n",
       "      <td>4.494319</td>\n",
       "      <td>3.842976</td>\n",
       "      <td>11.33182</td>\n",
       "      <td>2.456923</td>\n",
       "      <td>4.199498</td>\n",
       "      <td>25.946962</td>\n",
       "      <td>43.534632</td>\n",
       "      <td>54.0</td>\n",
       "    </tr>\n",
       "    <tr>\n",
       "      <th>2001-01-03</th>\n",
       "      <td>2.83125</td>\n",
       "      <td>11.55</td>\n",
       "      <td>4.613637</td>\n",
       "      <td>3.904959</td>\n",
       "      <td>11.48705</td>\n",
       "      <td>2.456923</td>\n",
       "      <td>4.199498</td>\n",
       "      <td>25.946962</td>\n",
       "      <td>43.965668</td>\n",
       "      <td>53.5</td>\n",
       "    </tr>\n",
       "    <tr>\n",
       "      <th>2001-01-04</th>\n",
       "      <td>2.86875</td>\n",
       "      <td>11.70</td>\n",
       "      <td>4.613637</td>\n",
       "      <td>3.884298</td>\n",
       "      <td>11.48705</td>\n",
       "      <td>2.456923</td>\n",
       "      <td>4.199498</td>\n",
       "      <td>25.946962</td>\n",
       "      <td>45.258776</td>\n",
       "      <td>53.5</td>\n",
       "    </tr>\n",
       "  </tbody>\n",
       "</table>\n",
       "</div>"
      ],
      "text/plain": [
       "             BBK.NR  FIRE.NR   HFCK.NR   ICDC.NR    JUB.NR    KCB.NR  \\\n",
       "date                                                                   \n",
       "2001-01-02  2.81250    11.55  4.494319  3.842976  11.33182  2.456923   \n",
       "2001-01-03  2.83125    11.55  4.613637  3.904959  11.48705  2.456923   \n",
       "2001-01-04  2.86875    11.70  4.613637  3.884298  11.48705  2.456923   \n",
       "\n",
       "             KPLC.NR     NMG.NR    SCBK.NR  TOTL.NR  \n",
       "date                                                 \n",
       "2001-01-02  4.199498  25.946962  43.534632     54.0  \n",
       "2001-01-03  4.199498  25.946962  43.965668     53.5  \n",
       "2001-01-04  4.199498  25.946962  45.258776     53.5  "
      ]
     },
     "execution_count": 51,
     "metadata": {},
     "output_type": "execute_result"
    }
   ],
   "source": [
    "simplepricedataframe.head(3)"
   ]
  },
  {
   "cell_type": "code",
   "execution_count": null,
   "metadata": {},
   "outputs": [],
   "source": []
  },
  {
   "cell_type": "code",
   "execution_count": null,
   "metadata": {},
   "outputs": [],
   "source": [
    "#### 2 part A"
   ]
  },
  {
   "cell_type": "code",
   "execution_count": 53,
   "metadata": {},
   "outputs": [],
   "source": [
    "########(I)plotting the log stock prices"
   ]
  },
  {
   "cell_type": "code",
   "execution_count": 54,
   "metadata": {},
   "outputs": [],
   "source": [
    "logpricedataframe = tofdata1[['BBK log prices','KCB log prices','FIRE log prices','ICDC log prices','HFCK log prices','KPLC log prices','NMG log prices','SCBK log prices','TOTL log prices','JUB log prices']].copy()"
   ]
  },
  {
   "cell_type": "code",
   "execution_count": 55,
   "metadata": {},
   "outputs": [
    {
     "data": {
      "text/plain": [
       "<matplotlib.axes._subplots.AxesSubplot at 0x1aacfef3208>"
      ]
     },
     "execution_count": 55,
     "metadata": {},
     "output_type": "execute_result"
    },
    {
     "data": {
      "image/png": "[encoded data removed]",
      "text/plain": [
       "<Figure size 1080x720 with 1 Axes>"
      ]
     },
     "metadata": {
      "needs_background": "light"
     },
     "output_type": "display_data"
    }
   ],
   "source": [
    "(logpricedataframe/logpricedataframe.iloc[0]*100).plot(figsize=(15,10))"
   ]
  },
  {
   "cell_type": "code",
   "execution_count": 56,
   "metadata": {},
   "outputs": [],
   "source": [
    "#######(II)COMPUTING THE SAMPLE COVARIANCE MATRICES FOR THE LOG AND SIMPLE RETURN SERIES"
   ]
  },
  {
   "cell_type": "code",
   "execution_count": 57,
   "metadata": {},
   "outputs": [],
   "source": [
    "######variance covariance matrix for the log returns series"
   ]
  },
  {
   "cell_type": "code",
   "execution_count": 58,
   "metadata": {},
   "outputs": [],
   "source": [
    "dataframe1 = tofdata1[['BBK log returns','FIRE log returns','KCB log returns','HFCK log returns','NMG log returns','ICDC log returns','JUB log returns','KPLC log returns','SCBK log returns','TOTL log returns']].copy()"
   ]
  },
  {
   "cell_type": "code",
   "execution_count": null,
   "metadata": {},
   "outputs": [],
   "source": []
  },
  {
   "cell_type": "code",
   "execution_count": 59,
   "metadata": {
    "scrolled": true
   },
   "outputs": [
    {
     "data": {
      "text/html": [
       "<div>\n",
       "<style scoped>\n",
       "    .dataframe tbody tr th:only-of-type {\n",
       "        vertical-align: middle;\n",
       "    }\n",
       "\n",
       "    .dataframe tbody tr th {\n",
       "        vertical-align: top;\n",
       "    }\n",
       "\n",
       "    .dataframe thead th {\n",
       "        text-align: right;\n",
       "    }\n",
       "</style>\n",
       "<table border=\"1\" class=\"dataframe\">\n",
       "  <thead>\n",
       "    <tr style=\"text-align: right;\">\n",
       "      <th></th>\n",
       "      <th>BBK log returns</th>\n",
       "      <th>FIRE log returns</th>\n",
       "      <th>KCB log returns</th>\n",
       "      <th>HFCK log returns</th>\n",
       "      <th>NMG log returns</th>\n",
       "      <th>ICDC log returns</th>\n",
       "      <th>JUB log returns</th>\n",
       "      <th>KPLC log returns</th>\n",
       "      <th>SCBK log returns</th>\n",
       "      <th>TOTL log returns</th>\n",
       "    </tr>\n",
       "    <tr>\n",
       "      <th>date</th>\n",
       "      <th></th>\n",
       "      <th></th>\n",
       "      <th></th>\n",
       "      <th></th>\n",
       "      <th></th>\n",
       "      <th></th>\n",
       "      <th></th>\n",
       "      <th></th>\n",
       "      <th></th>\n",
       "      <th></th>\n",
       "    </tr>\n",
       "  </thead>\n",
       "  <tbody>\n",
       "    <tr>\n",
       "      <th>2001-01-02</th>\n",
       "      <td>0.006645</td>\n",
       "      <td>0.000000</td>\n",
       "      <td>0.0</td>\n",
       "      <td>0.026202</td>\n",
       "      <td>0.0</td>\n",
       "      <td>0.016000</td>\n",
       "      <td>0.013606</td>\n",
       "      <td>0.0</td>\n",
       "      <td>0.009852</td>\n",
       "      <td>-0.009302</td>\n",
       "    </tr>\n",
       "    <tr>\n",
       "      <th>2001-01-03</th>\n",
       "      <td>0.006645</td>\n",
       "      <td>0.000000</td>\n",
       "      <td>0.0</td>\n",
       "      <td>0.026202</td>\n",
       "      <td>0.0</td>\n",
       "      <td>0.016000</td>\n",
       "      <td>0.013606</td>\n",
       "      <td>0.0</td>\n",
       "      <td>0.009852</td>\n",
       "      <td>-0.009302</td>\n",
       "    </tr>\n",
       "    <tr>\n",
       "      <th>2001-01-04</th>\n",
       "      <td>0.013158</td>\n",
       "      <td>0.012903</td>\n",
       "      <td>0.0</td>\n",
       "      <td>0.000000</td>\n",
       "      <td>0.0</td>\n",
       "      <td>-0.005305</td>\n",
       "      <td>0.000000</td>\n",
       "      <td>0.0</td>\n",
       "      <td>0.028988</td>\n",
       "      <td>0.000000</td>\n",
       "    </tr>\n",
       "  </tbody>\n",
       "</table>\n",
       "</div>"
      ],
      "text/plain": [
       "            BBK log returns  FIRE log returns  KCB log returns  \\\n",
       "date                                                             \n",
       "2001-01-02         0.006645          0.000000              0.0   \n",
       "2001-01-03         0.006645          0.000000              0.0   \n",
       "2001-01-04         0.013158          0.012903              0.0   \n",
       "\n",
       "            HFCK log returns  NMG log returns  ICDC log returns  \\\n",
       "date                                                              \n",
       "2001-01-02          0.026202              0.0          0.016000   \n",
       "2001-01-03          0.026202              0.0          0.016000   \n",
       "2001-01-04          0.000000              0.0         -0.005305   \n",
       "\n",
       "            JUB log returns  KPLC log returns  SCBK log returns  \\\n",
       "date                                                              \n",
       "2001-01-02         0.013606               0.0          0.009852   \n",
       "2001-01-03         0.013606               0.0          0.009852   \n",
       "2001-01-04         0.000000               0.0          0.028988   \n",
       "\n",
       "            TOTL log returns  \n",
       "date                          \n",
       "2001-01-02         -0.009302  \n",
       "2001-01-03         -0.009302  \n",
       "2001-01-04          0.000000  "
      ]
     },
     "execution_count": 59,
     "metadata": {},
     "output_type": "execute_result"
    }
   ],
   "source": [
    "dataframe1.head(3)"
   ]
  },
  {
   "cell_type": "code",
   "execution_count": 60,
   "metadata": {},
   "outputs": [
    {
     "data": {
      "text/html": [
       "<div>\n",
       "<style scoped>\n",
       "    .dataframe tbody tr th:only-of-type {\n",
       "        vertical-align: middle;\n",
       "    }\n",
       "\n",
       "    .dataframe tbody tr th {\n",
       "        vertical-align: top;\n",
       "    }\n",
       "\n",
       "    .dataframe thead th {\n",
       "        text-align: right;\n",
       "    }\n",
       "</style>\n",
       "<table border=\"1\" class=\"dataframe\">\n",
       "  <thead>\n",
       "    <tr style=\"text-align: right;\">\n",
       "      <th></th>\n",
       "      <th>BBK log returns</th>\n",
       "      <th>FIRE log returns</th>\n",
       "      <th>KCB log returns</th>\n",
       "      <th>HFCK log returns</th>\n",
       "      <th>NMG log returns</th>\n",
       "      <th>ICDC log returns</th>\n",
       "      <th>JUB log returns</th>\n",
       "      <th>KPLC log returns</th>\n",
       "      <th>SCBK log returns</th>\n",
       "      <th>TOTL log returns</th>\n",
       "    </tr>\n",
       "  </thead>\n",
       "  <tbody>\n",
       "    <tr>\n",
       "      <th>BBK log returns</th>\n",
       "      <td>0.001337</td>\n",
       "      <td>0.000140</td>\n",
       "      <td>-0.000073</td>\n",
       "      <td>-0.001009</td>\n",
       "      <td>-0.000821</td>\n",
       "      <td>0.000546</td>\n",
       "      <td>-0.000785</td>\n",
       "      <td>0.000275</td>\n",
       "      <td>-0.000927</td>\n",
       "      <td>0.000043</td>\n",
       "    </tr>\n",
       "    <tr>\n",
       "      <th>FIRE log returns</th>\n",
       "      <td>0.000140</td>\n",
       "      <td>0.000996</td>\n",
       "      <td>0.000038</td>\n",
       "      <td>-0.000035</td>\n",
       "      <td>-0.000061</td>\n",
       "      <td>0.000089</td>\n",
       "      <td>-0.000260</td>\n",
       "      <td>0.000083</td>\n",
       "      <td>-0.000082</td>\n",
       "      <td>0.000043</td>\n",
       "    </tr>\n",
       "    <tr>\n",
       "      <th>KCB log returns</th>\n",
       "      <td>-0.000073</td>\n",
       "      <td>0.000038</td>\n",
       "      <td>0.000527</td>\n",
       "      <td>0.000257</td>\n",
       "      <td>0.000174</td>\n",
       "      <td>0.000017</td>\n",
       "      <td>0.000173</td>\n",
       "      <td>0.000174</td>\n",
       "      <td>0.000197</td>\n",
       "      <td>0.000055</td>\n",
       "    </tr>\n",
       "    <tr>\n",
       "      <th>HFCK log returns</th>\n",
       "      <td>-0.001009</td>\n",
       "      <td>-0.000035</td>\n",
       "      <td>0.000257</td>\n",
       "      <td>0.001862</td>\n",
       "      <td>0.000904</td>\n",
       "      <td>-0.000374</td>\n",
       "      <td>0.000887</td>\n",
       "      <td>-0.000107</td>\n",
       "      <td>0.001013</td>\n",
       "      <td>0.000035</td>\n",
       "    </tr>\n",
       "    <tr>\n",
       "      <th>NMG log returns</th>\n",
       "      <td>-0.000821</td>\n",
       "      <td>-0.000061</td>\n",
       "      <td>0.000174</td>\n",
       "      <td>0.000904</td>\n",
       "      <td>0.001155</td>\n",
       "      <td>-0.000363</td>\n",
       "      <td>0.000717</td>\n",
       "      <td>-0.000127</td>\n",
       "      <td>0.000841</td>\n",
       "      <td>-0.000016</td>\n",
       "    </tr>\n",
       "    <tr>\n",
       "      <th>ICDC log returns</th>\n",
       "      <td>0.000546</td>\n",
       "      <td>0.000089</td>\n",
       "      <td>0.000017</td>\n",
       "      <td>-0.000374</td>\n",
       "      <td>-0.000363</td>\n",
       "      <td>0.000789</td>\n",
       "      <td>-0.000339</td>\n",
       "      <td>0.000244</td>\n",
       "      <td>-0.000422</td>\n",
       "      <td>-0.000039</td>\n",
       "    </tr>\n",
       "    <tr>\n",
       "      <th>JUB log returns</th>\n",
       "      <td>-0.000785</td>\n",
       "      <td>-0.000260</td>\n",
       "      <td>0.000173</td>\n",
       "      <td>0.000887</td>\n",
       "      <td>0.000717</td>\n",
       "      <td>-0.000339</td>\n",
       "      <td>0.003223</td>\n",
       "      <td>-0.000051</td>\n",
       "      <td>0.000792</td>\n",
       "      <td>0.000002</td>\n",
       "    </tr>\n",
       "    <tr>\n",
       "      <th>KPLC log returns</th>\n",
       "      <td>0.000275</td>\n",
       "      <td>0.000083</td>\n",
       "      <td>0.000174</td>\n",
       "      <td>-0.000107</td>\n",
       "      <td>-0.000127</td>\n",
       "      <td>0.000244</td>\n",
       "      <td>-0.000051</td>\n",
       "      <td>0.022330</td>\n",
       "      <td>-0.000162</td>\n",
       "      <td>-0.002150</td>\n",
       "    </tr>\n",
       "    <tr>\n",
       "      <th>SCBK log returns</th>\n",
       "      <td>-0.000927</td>\n",
       "      <td>-0.000082</td>\n",
       "      <td>0.000197</td>\n",
       "      <td>0.001013</td>\n",
       "      <td>0.000841</td>\n",
       "      <td>-0.000422</td>\n",
       "      <td>0.000792</td>\n",
       "      <td>-0.000162</td>\n",
       "      <td>0.001225</td>\n",
       "      <td>-0.000011</td>\n",
       "    </tr>\n",
       "    <tr>\n",
       "      <th>TOTL log returns</th>\n",
       "      <td>0.000043</td>\n",
       "      <td>0.000043</td>\n",
       "      <td>0.000055</td>\n",
       "      <td>0.000035</td>\n",
       "      <td>-0.000016</td>\n",
       "      <td>-0.000039</td>\n",
       "      <td>0.000002</td>\n",
       "      <td>-0.002150</td>\n",
       "      <td>-0.000011</td>\n",
       "      <td>0.003793</td>\n",
       "    </tr>\n",
       "  </tbody>\n",
       "</table>\n",
       "</div>"
      ],
      "text/plain": [
       "                  BBK log returns  FIRE log returns  KCB log returns  \\\n",
       "BBK log returns          0.001337          0.000140        -0.000073   \n",
       "FIRE log returns         0.000140          0.000996         0.000038   \n",
       "KCB log returns         -0.000073          0.000038         0.000527   \n",
       "HFCK log returns        -0.001009         -0.000035         0.000257   \n",
       "NMG log returns         -0.000821         -0.000061         0.000174   \n",
       "ICDC log returns         0.000546          0.000089         0.000017   \n",
       "JUB log returns         -0.000785         -0.000260         0.000173   \n",
       "KPLC log returns         0.000275          0.000083         0.000174   \n",
       "SCBK log returns        -0.000927         -0.000082         0.000197   \n",
       "TOTL log returns         0.000043          0.000043         0.000055   \n",
       "\n",
       "                  HFCK log returns  NMG log returns  ICDC log returns  \\\n",
       "BBK log returns          -0.001009        -0.000821          0.000546   \n",
       "FIRE log returns         -0.000035        -0.000061          0.000089   \n",
       "KCB log returns           0.000257         0.000174          0.000017   \n",
       "HFCK log returns          0.001862         0.000904         -0.000374   \n",
       "NMG log returns           0.000904         0.001155         -0.000363   \n",
       "ICDC log returns         -0.000374        -0.000363          0.000789   \n",
       "JUB log returns           0.000887         0.000717         -0.000339   \n",
       "KPLC log returns         -0.000107        -0.000127          0.000244   \n",
       "SCBK log returns          0.001013         0.000841         -0.000422   \n",
       "TOTL log returns          0.000035        -0.000016         -0.000039   \n",
       "\n",
       "                  JUB log returns  KPLC log returns  SCBK log returns  \\\n",
       "BBK log returns         -0.000785          0.000275         -0.000927   \n",
       "FIRE log returns        -0.000260          0.000083         -0.000082   \n",
       "KCB log returns          0.000173          0.000174          0.000197   \n",
       "HFCK log returns         0.000887         -0.000107          0.001013   \n",
       "NMG log returns          0.000717         -0.000127          0.000841   \n",
       "ICDC log returns        -0.000339          0.000244         -0.000422   \n",
       "JUB log returns          0.003223         -0.000051          0.000792   \n",
       "KPLC log returns        -0.000051          0.022330         -0.000162   \n",
       "SCBK log returns         0.000792         -0.000162          0.001225   \n",
       "TOTL log returns         0.000002         -0.002150         -0.000011   \n",
       "\n",
       "                  TOTL log returns  \n",
       "BBK log returns           0.000043  \n",
       "FIRE log returns          0.000043  \n",
       "KCB log returns           0.000055  \n",
       "HFCK log returns          0.000035  \n",
       "NMG log returns          -0.000016  \n",
       "ICDC log returns         -0.000039  \n",
       "JUB log returns           0.000002  \n",
       "KPLC log returns         -0.002150  \n",
       "SCBK log returns         -0.000011  \n",
       "TOTL log returns          0.003793  "
      ]
     },
     "execution_count": 60,
     "metadata": {},
     "output_type": "execute_result"
    }
   ],
   "source": [
    "dataframe1.cov()"
   ]
  },
  {
   "cell_type": "code",
   "execution_count": null,
   "metadata": {},
   "outputs": [],
   "source": []
  },
  {
   "cell_type": "code",
   "execution_count": 61,
   "metadata": {},
   "outputs": [],
   "source": [
    "####simple returns variance covariance matrix"
   ]
  },
  {
   "cell_type": "code",
   "execution_count": 62,
   "metadata": {},
   "outputs": [],
   "source": [
    "dataframe2 = tofdata1[['BBK simple returns','FIRE simple returns','KCB simple returns','HFCK simple returns','ICDC simple returns','KPLC simple returns','NMG simple returns','SCBK simple returns','TOTL simple returns','JUB simple returns']].copy()"
   ]
  },
  {
   "cell_type": "code",
   "execution_count": 63,
   "metadata": {
    "scrolled": true
   },
   "outputs": [
    {
     "data": {
      "text/html": [
       "<div>\n",
       "<style scoped>\n",
       "    .dataframe tbody tr th:only-of-type {\n",
       "        vertical-align: middle;\n",
       "    }\n",
       "\n",
       "    .dataframe tbody tr th {\n",
       "        vertical-align: top;\n",
       "    }\n",
       "\n",
       "    .dataframe thead th {\n",
       "        text-align: right;\n",
       "    }\n",
       "</style>\n",
       "<table border=\"1\" class=\"dataframe\">\n",
       "  <thead>\n",
       "    <tr style=\"text-align: right;\">\n",
       "      <th></th>\n",
       "      <th>BBK simple returns</th>\n",
       "      <th>FIRE simple returns</th>\n",
       "      <th>KCB simple returns</th>\n",
       "      <th>HFCK simple returns</th>\n",
       "      <th>ICDC simple returns</th>\n",
       "      <th>KPLC simple returns</th>\n",
       "      <th>NMG simple returns</th>\n",
       "      <th>SCBK simple returns</th>\n",
       "      <th>TOTL simple returns</th>\n",
       "      <th>JUB simple returns</th>\n",
       "    </tr>\n",
       "    <tr>\n",
       "      <th>date</th>\n",
       "      <th></th>\n",
       "      <th></th>\n",
       "      <th></th>\n",
       "      <th></th>\n",
       "      <th></th>\n",
       "      <th></th>\n",
       "      <th></th>\n",
       "      <th></th>\n",
       "      <th></th>\n",
       "      <th></th>\n",
       "    </tr>\n",
       "  </thead>\n",
       "  <tbody>\n",
       "    <tr>\n",
       "      <th>2001-01-02</th>\n",
       "      <td>0.006667</td>\n",
       "      <td>0.000000</td>\n",
       "      <td>0.0</td>\n",
       "      <td>0.026549</td>\n",
       "      <td>0.016129</td>\n",
       "      <td>0.0</td>\n",
       "      <td>0.0</td>\n",
       "      <td>0.009901</td>\n",
       "      <td>-0.009259</td>\n",
       "      <td>0.013699</td>\n",
       "    </tr>\n",
       "    <tr>\n",
       "      <th>2001-01-03</th>\n",
       "      <td>0.006667</td>\n",
       "      <td>0.000000</td>\n",
       "      <td>0.0</td>\n",
       "      <td>0.026549</td>\n",
       "      <td>0.016129</td>\n",
       "      <td>0.0</td>\n",
       "      <td>0.0</td>\n",
       "      <td>0.009901</td>\n",
       "      <td>-0.009259</td>\n",
       "      <td>0.013699</td>\n",
       "    </tr>\n",
       "    <tr>\n",
       "      <th>2001-01-04</th>\n",
       "      <td>0.013245</td>\n",
       "      <td>0.012987</td>\n",
       "      <td>0.0</td>\n",
       "      <td>0.000000</td>\n",
       "      <td>-0.005291</td>\n",
       "      <td>0.0</td>\n",
       "      <td>0.0</td>\n",
       "      <td>0.029412</td>\n",
       "      <td>0.000000</td>\n",
       "      <td>0.000000</td>\n",
       "    </tr>\n",
       "  </tbody>\n",
       "</table>\n",
       "</div>"
      ],
      "text/plain": [
       "            BBK simple returns  FIRE simple returns  KCB simple returns  \\\n",
       "date                                                                      \n",
       "2001-01-02            0.006667             0.000000                 0.0   \n",
       "2001-01-03            0.006667             0.000000                 0.0   \n",
       "2001-01-04            0.013245             0.012987                 0.0   \n",
       "\n",
       "            HFCK simple returns  ICDC simple returns  KPLC simple returns  \\\n",
       "date                                                                        \n",
       "2001-01-02             0.026549             0.016129                  0.0   \n",
       "2001-01-03             0.026549             0.016129                  0.0   \n",
       "2001-01-04             0.000000            -0.005291                  0.0   \n",
       "\n",
       "            NMG simple returns  SCBK simple returns  TOTL simple returns  \\\n",
       "date                                                                       \n",
       "2001-01-02                 0.0             0.009901            -0.009259   \n",
       "2001-01-03                 0.0             0.009901            -0.009259   \n",
       "2001-01-04                 0.0             0.029412             0.000000   \n",
       "\n",
       "            JUB simple returns  \n",
       "date                            \n",
       "2001-01-02            0.013699  \n",
       "2001-01-03            0.013699  \n",
       "2001-01-04            0.000000  "
      ]
     },
     "execution_count": 63,
     "metadata": {},
     "output_type": "execute_result"
    }
   ],
   "source": [
    "dataframe2.head(3)"
   ]
  },
  {
   "cell_type": "code",
   "execution_count": 64,
   "metadata": {},
   "outputs": [
    {
     "data": {
      "text/html": [
       "<div>\n",
       "<style scoped>\n",
       "    .dataframe tbody tr th:only-of-type {\n",
       "        vertical-align: middle;\n",
       "    }\n",
       "\n",
       "    .dataframe tbody tr th {\n",
       "        vertical-align: top;\n",
       "    }\n",
       "\n",
       "    .dataframe thead th {\n",
       "        text-align: right;\n",
       "    }\n",
       "</style>\n",
       "<table border=\"1\" class=\"dataframe\">\n",
       "  <thead>\n",
       "    <tr style=\"text-align: right;\">\n",
       "      <th></th>\n",
       "      <th>BBK simple returns</th>\n",
       "      <th>FIRE simple returns</th>\n",
       "      <th>KCB simple returns</th>\n",
       "      <th>HFCK simple returns</th>\n",
       "      <th>ICDC simple returns</th>\n",
       "      <th>KPLC simple returns</th>\n",
       "      <th>NMG simple returns</th>\n",
       "      <th>SCBK simple returns</th>\n",
       "      <th>TOTL simple returns</th>\n",
       "      <th>JUB simple returns</th>\n",
       "    </tr>\n",
       "  </thead>\n",
       "  <tbody>\n",
       "    <tr>\n",
       "      <th>BBK simple returns</th>\n",
       "      <td>0.003444</td>\n",
       "      <td>0.000087</td>\n",
       "      <td>-0.000126</td>\n",
       "      <td>-0.001236</td>\n",
       "      <td>0.001000</td>\n",
       "      <td>0.000446</td>\n",
       "      <td>-0.000992</td>\n",
       "      <td>-0.001130</td>\n",
       "      <td>0.000065</td>\n",
       "      <td>-0.001772</td>\n",
       "    </tr>\n",
       "    <tr>\n",
       "      <th>FIRE simple returns</th>\n",
       "      <td>0.000087</td>\n",
       "      <td>0.000992</td>\n",
       "      <td>0.000039</td>\n",
       "      <td>-0.000139</td>\n",
       "      <td>0.000072</td>\n",
       "      <td>0.000195</td>\n",
       "      <td>-0.000120</td>\n",
       "      <td>-0.000168</td>\n",
       "      <td>0.000041</td>\n",
       "      <td>-0.000593</td>\n",
       "    </tr>\n",
       "    <tr>\n",
       "      <th>KCB simple returns</th>\n",
       "      <td>-0.000126</td>\n",
       "      <td>0.000039</td>\n",
       "      <td>0.000528</td>\n",
       "      <td>0.000345</td>\n",
       "      <td>0.000015</td>\n",
       "      <td>0.000446</td>\n",
       "      <td>0.000221</td>\n",
       "      <td>0.000269</td>\n",
       "      <td>0.000062</td>\n",
       "      <td>0.000631</td>\n",
       "    </tr>\n",
       "    <tr>\n",
       "      <th>HFCK simple returns</th>\n",
       "      <td>-0.001236</td>\n",
       "      <td>-0.000139</td>\n",
       "      <td>0.000345</td>\n",
       "      <td>0.003916</td>\n",
       "      <td>-0.000481</td>\n",
       "      <td>-0.000220</td>\n",
       "      <td>0.002239</td>\n",
       "      <td>0.002775</td>\n",
       "      <td>0.000038</td>\n",
       "      <td>0.008519</td>\n",
       "    </tr>\n",
       "    <tr>\n",
       "      <th>ICDC simple returns</th>\n",
       "      <td>0.001000</td>\n",
       "      <td>0.000072</td>\n",
       "      <td>0.000015</td>\n",
       "      <td>-0.000481</td>\n",
       "      <td>0.000873</td>\n",
       "      <td>0.000606</td>\n",
       "      <td>-0.000421</td>\n",
       "      <td>-0.000509</td>\n",
       "      <td>0.000002</td>\n",
       "      <td>-0.001140</td>\n",
       "    </tr>\n",
       "    <tr>\n",
       "      <th>KPLC simple returns</th>\n",
       "      <td>0.000446</td>\n",
       "      <td>0.000195</td>\n",
       "      <td>0.000446</td>\n",
       "      <td>-0.000220</td>\n",
       "      <td>0.000606</td>\n",
       "      <td>0.380498</td>\n",
       "      <td>-0.000247</td>\n",
       "      <td>-0.000310</td>\n",
       "      <td>-0.003503</td>\n",
       "      <td>-0.000225</td>\n",
       "    </tr>\n",
       "    <tr>\n",
       "      <th>NMG simple returns</th>\n",
       "      <td>-0.000992</td>\n",
       "      <td>-0.000120</td>\n",
       "      <td>0.000221</td>\n",
       "      <td>0.002239</td>\n",
       "      <td>-0.000421</td>\n",
       "      <td>-0.000247</td>\n",
       "      <td>0.002028</td>\n",
       "      <td>0.001983</td>\n",
       "      <td>-0.000023</td>\n",
       "      <td>0.005912</td>\n",
       "    </tr>\n",
       "    <tr>\n",
       "      <th>SCBK simple returns</th>\n",
       "      <td>-0.001130</td>\n",
       "      <td>-0.000168</td>\n",
       "      <td>0.000269</td>\n",
       "      <td>0.002775</td>\n",
       "      <td>-0.000509</td>\n",
       "      <td>-0.000310</td>\n",
       "      <td>0.001983</td>\n",
       "      <td>0.002738</td>\n",
       "      <td>-0.000008</td>\n",
       "      <td>0.007463</td>\n",
       "    </tr>\n",
       "    <tr>\n",
       "      <th>TOTL simple returns</th>\n",
       "      <td>0.000065</td>\n",
       "      <td>0.000041</td>\n",
       "      <td>0.000062</td>\n",
       "      <td>0.000038</td>\n",
       "      <td>0.000002</td>\n",
       "      <td>-0.003503</td>\n",
       "      <td>-0.000023</td>\n",
       "      <td>-0.000008</td>\n",
       "      <td>0.011907</td>\n",
       "      <td>-0.000020</td>\n",
       "    </tr>\n",
       "    <tr>\n",
       "      <th>JUB simple returns</th>\n",
       "      <td>-0.001772</td>\n",
       "      <td>-0.000593</td>\n",
       "      <td>0.000631</td>\n",
       "      <td>0.008519</td>\n",
       "      <td>-0.001140</td>\n",
       "      <td>-0.000225</td>\n",
       "      <td>0.005912</td>\n",
       "      <td>0.007463</td>\n",
       "      <td>-0.000020</td>\n",
       "      <td>0.024850</td>\n",
       "    </tr>\n",
       "  </tbody>\n",
       "</table>\n",
       "</div>"
      ],
      "text/plain": [
       "                     BBK simple returns  FIRE simple returns  \\\n",
       "BBK simple returns             0.003444             0.000087   \n",
       "FIRE simple returns            0.000087             0.000992   \n",
       "KCB simple returns            -0.000126             0.000039   \n",
       "HFCK simple returns           -0.001236            -0.000139   \n",
       "ICDC simple returns            0.001000             0.000072   \n",
       "KPLC simple returns            0.000446             0.000195   \n",
       "NMG simple returns            -0.000992            -0.000120   \n",
       "SCBK simple returns           -0.001130            -0.000168   \n",
       "TOTL simple returns            0.000065             0.000041   \n",
       "JUB simple returns            -0.001772            -0.000593   \n",
       "\n",
       "                     KCB simple returns  HFCK simple returns  \\\n",
       "BBK simple returns            -0.000126            -0.001236   \n",
       "FIRE simple returns            0.000039            -0.000139   \n",
       "KCB simple returns             0.000528             0.000345   \n",
       "HFCK simple returns            0.000345             0.003916   \n",
       "ICDC simple returns            0.000015            -0.000481   \n",
       "KPLC simple returns            0.000446            -0.000220   \n",
       "NMG simple returns             0.000221             0.002239   \n",
       "SCBK simple returns            0.000269             0.002775   \n",
       "TOTL simple returns            0.000062             0.000038   \n",
       "JUB simple returns             0.000631             0.008519   \n",
       "\n",
       "                     ICDC simple returns  KPLC simple returns  \\\n",
       "BBK simple returns              0.001000             0.000446   \n",
       "FIRE simple returns             0.000072             0.000195   \n",
       "KCB simple returns              0.000015             0.000446   \n",
       "HFCK simple returns            -0.000481            -0.000220   \n",
       "ICDC simple returns             0.000873             0.000606   \n",
       "KPLC simple returns             0.000606             0.380498   \n",
       "NMG simple returns             -0.000421            -0.000247   \n",
       "SCBK simple returns            -0.000509            -0.000310   \n",
       "TOTL simple returns             0.000002            -0.003503   \n",
       "JUB simple returns             -0.001140            -0.000225   \n",
       "\n",
       "                     NMG simple returns  SCBK simple returns  \\\n",
       "BBK simple returns            -0.000992            -0.001130   \n",
       "FIRE simple returns           -0.000120            -0.000168   \n",
       "KCB simple returns             0.000221             0.000269   \n",
       "HFCK simple returns            0.002239             0.002775   \n",
       "ICDC simple returns           -0.000421            -0.000509   \n",
       "KPLC simple returns           -0.000247            -0.000310   \n",
       "NMG simple returns             0.002028             0.001983   \n",
       "SCBK simple returns            0.001983             0.002738   \n",
       "TOTL simple returns           -0.000023            -0.000008   \n",
       "JUB simple returns             0.005912             0.007463   \n",
       "\n",
       "                     TOTL simple returns  JUB simple returns  \n",
       "BBK simple returns              0.000065           -0.001772  \n",
       "FIRE simple returns             0.000041           -0.000593  \n",
       "KCB simple returns              0.000062            0.000631  \n",
       "HFCK simple returns             0.000038            0.008519  \n",
       "ICDC simple returns             0.000002           -0.001140  \n",
       "KPLC simple returns            -0.003503           -0.000225  \n",
       "NMG simple returns             -0.000023            0.005912  \n",
       "SCBK simple returns            -0.000008            0.007463  \n",
       "TOTL simple returns             0.011907           -0.000020  \n",
       "JUB simple returns             -0.000020            0.024850  "
      ]
     },
     "execution_count": 64,
     "metadata": {},
     "output_type": "execute_result"
    }
   ],
   "source": [
    "dataframe2.cov()"
   ]
  },
  {
   "cell_type": "code",
   "execution_count": 65,
   "metadata": {},
   "outputs": [],
   "source": [
    "########(II)COMPUTING MEAN OF THE LOG AND SIMPLE RETURN SERIES FOR THE STOCKS"
   ]
  },
  {
   "cell_type": "code",
   "execution_count": 66,
   "metadata": {},
   "outputs": [],
   "source": [
    "import statistics"
   ]
  },
  {
   "cell_type": "code",
   "execution_count": 67,
   "metadata": {},
   "outputs": [],
   "source": [
    "######sample mean of log returns"
   ]
  },
  {
   "cell_type": "code",
   "execution_count": 258,
   "metadata": {},
   "outputs": [
    {
     "data": {
      "text/plain": [
       "BBK log returns     0.000304\n",
       "FIRE log returns   -0.000408\n",
       "KCB log returns     0.000606\n",
       "HFCK log returns    0.000052\n",
       "NMG log returns     0.000216\n",
       "ICDC log returns    0.000455\n",
       "JUB log returns     0.000799\n",
       "KPLC log returns   -0.000007\n",
       "SCBK log returns    0.000335\n",
       "TOTL log returns   -0.000152\n",
       "dtype: float64"
      ]
     },
     "execution_count": 258,
     "metadata": {},
     "output_type": "execute_result"
    }
   ],
   "source": [
    "dataframe1.mean()\n"
   ]
  },
  {
   "cell_type": "code",
   "execution_count": null,
   "metadata": {},
   "outputs": [],
   "source": []
  },
  {
   "cell_type": "code",
   "execution_count": 78,
   "metadata": {},
   "outputs": [],
   "source": [
    "#####computiing mean return of simmple stock price"
   ]
  },
  {
   "cell_type": "code",
   "execution_count": 253,
   "metadata": {},
   "outputs": [
    {
     "data": {
      "text/plain": [
       "BBK simple returns     0.001089\n",
       "FIRE simple returns    0.000089\n",
       "KCB simple returns     0.000870\n",
       "HFCK simple returns    0.001094\n",
       "ICDC simple returns    0.000856\n",
       "KPLC simple returns    0.020702\n",
       "NMG simple returns     0.000850\n",
       "SCBK simple returns    0.001034\n",
       "TOTL simple returns    0.002153\n",
       "JUB simple returns     0.003193\n",
       "dtype: float64"
      ]
     },
     "execution_count": 253,
     "metadata": {},
     "output_type": "execute_result"
    }
   ],
   "source": [
    "dataframe2.mean()"
   ]
  },
  {
   "cell_type": "code",
   "execution_count": null,
   "metadata": {},
   "outputs": [],
   "source": []
  },
  {
   "cell_type": "code",
   "execution_count": 89,
   "metadata": {},
   "outputs": [],
   "source": [
    "########(III)SKEWNESS KURTOSIS AND JARQUE-BERA TEST FOR RETURN SERIES"
   ]
  },
  {
   "cell_type": "code",
   "execution_count": 90,
   "metadata": {},
   "outputs": [],
   "source": [
    "##KURTOSIS"
   ]
  },
  {
   "cell_type": "code",
   "execution_count": 91,
   "metadata": {},
   "outputs": [],
   "source": [
    "###log returns kurtosis"
   ]
  },
  {
   "cell_type": "code",
   "execution_count": 92,
   "metadata": {},
   "outputs": [],
   "source": [
    "from scipy.stats import kurtosis"
   ]
  },
  {
   "cell_type": "code",
   "execution_count": 250,
   "metadata": {},
   "outputs": [
    {
     "data": {
      "text/plain": [
       "BBK log returns     1392.540103\n",
       "FIRE log returns       9.328451\n",
       "KCB log returns       17.948086\n",
       "HFCK log returns     727.023331\n",
       "NMG log returns      807.915948\n",
       "ICDC log returns     196.812305\n",
       "JUB log returns     1546.711710\n",
       "KPLC log returns     345.227619\n",
       "SCBK log returns    1253.766666\n",
       "TOTL log returns     604.512257\n",
       "dtype: float64"
      ]
     },
     "execution_count": 250,
     "metadata": {},
     "output_type": "execute_result"
    }
   ],
   "source": [
    "dataframe1.kurtosis()"
   ]
  },
  {
   "cell_type": "code",
   "execution_count": 103,
   "metadata": {},
   "outputs": [],
   "source": [
    "###simple return series kurtosis"
   ]
  },
  {
   "cell_type": "code",
   "execution_count": 251,
   "metadata": {},
   "outputs": [
    {
     "data": {
      "text/plain": [
       "BBK simple returns     3461.986936\n",
       "FIRE simple returns       8.785397\n",
       "KCB simple returns       15.202092\n",
       "HFCK simple returns    2589.346338\n",
       "ICDC simple returns     375.083004\n",
       "KPLC simple returns    1053.238140\n",
       "NMG simple returns     2264.008778\n",
       "SCBK simple returns    3178.235990\n",
       "TOTL simple returns    1940.473200\n",
       "JUB simple returns     4231.702197\n",
       "dtype: float64"
      ]
     },
     "execution_count": 251,
     "metadata": {},
     "output_type": "execute_result"
    }
   ],
   "source": [
    "dataframe2.kurtosis()"
   ]
  },
  {
   "cell_type": "code",
   "execution_count": 114,
   "metadata": {},
   "outputs": [],
   "source": [
    "######SKEWNESS"
   ]
  },
  {
   "cell_type": "code",
   "execution_count": 115,
   "metadata": {},
   "outputs": [],
   "source": [
    "###log return series skewness"
   ]
  },
  {
   "cell_type": "code",
   "execution_count": 116,
   "metadata": {},
   "outputs": [],
   "source": [
    "from scipy.stats import skew"
   ]
  },
  {
   "cell_type": "code",
   "execution_count": 248,
   "metadata": {},
   "outputs": [
    {
     "data": {
      "text/plain": [
       "BBK log returns     0.410804\n",
       "FIRE log returns   -0.331237\n",
       "KCB log returns    -0.293902\n",
       "HFCK log returns   -0.167983\n",
       "NMG log returns     1.249170\n",
       "ICDC log returns    0.302070\n",
       "JUB log returns    -0.777277\n",
       "KPLC log returns   -0.136218\n",
       "SCBK log returns    0.234788\n",
       "TOTL log returns    0.159837\n",
       "dtype: float64"
      ]
     },
     "execution_count": 248,
     "metadata": {},
     "output_type": "execute_result"
    }
   ],
   "source": [
    "dataframe1.skew()"
   ]
  },
  {
   "cell_type": "code",
   "execution_count": 127,
   "metadata": {},
   "outputs": [],
   "source": [
    "#####simple return series skewness"
   ]
  },
  {
   "cell_type": "code",
   "execution_count": 246,
   "metadata": {},
   "outputs": [
    {
     "data": {
      "text/plain": [
       "BBK simple returns     54.530726\n",
       "FIRE simple returns     0.182416\n",
       "KCB simple returns      0.340763\n",
       "HFCK simple returns    43.864753\n",
       "ICDC simple returns     9.346869\n",
       "KPLC simple returns    31.326127\n",
       "NMG simple returns     39.363191\n",
       "SCBK simple returns    50.903600\n",
       "TOTL simple returns    40.370361\n",
       "JUB simple returns     64.038861\n",
       "dtype: float64"
      ]
     },
     "execution_count": 246,
     "metadata": {},
     "output_type": "execute_result"
    }
   ],
   "source": [
    "dataframe2.skew()"
   ]
  },
  {
   "cell_type": "code",
   "execution_count": 138,
   "metadata": {},
   "outputs": [],
   "source": [
    "########JARQUE-BERA TEST"
   ]
  },
  {
   "cell_type": "code",
   "execution_count": 139,
   "metadata": {},
   "outputs": [],
   "source": [
    "####for log returns series"
   ]
  },
  {
   "cell_type": "code",
   "execution_count": 140,
   "metadata": {},
   "outputs": [],
   "source": [
    "from statsmodels.stats.stattools import jarque_bera"
   ]
  },
  {
   "cell_type": "code",
   "execution_count": 141,
   "metadata": {},
   "outputs": [
    {
     "data": {
      "text/plain": [
       "(362220543.2480235, 0.0, 0.4106668063391628, 1393.9895734875208)"
      ]
     },
     "execution_count": 141,
     "metadata": {},
     "output_type": "execute_result"
    }
   ],
   "source": [
    "jarque_bera(dataframe1['BBK log returns'])"
   ]
  },
  {
   "cell_type": "code",
   "execution_count": 142,
   "metadata": {},
   "outputs": [
    {
     "data": {
      "text/plain": [
       "(293623567.21002126, 0.0, 0.23470961789410233, 1255.3705208246852)"
      ]
     },
     "execution_count": 142,
     "metadata": {},
     "output_type": "execute_result"
    }
   ],
   "source": [
    "jarque_bera(dataframe1['SCBK log returns'])"
   ]
  },
  {
   "cell_type": "code",
   "execution_count": 143,
   "metadata": {},
   "outputs": [
    {
     "data": {
      "text/plain": [
       "(60227.70547803132, 0.0, -0.29380412548129753, 20.92678418233511)"
      ]
     },
     "execution_count": 143,
     "metadata": {},
     "output_type": "execute_result"
    }
   ],
   "source": [
    "jarque_bera(dataframe1['KCB log returns'])"
   ]
  },
  {
   "cell_type": "code",
   "execution_count": 144,
   "metadata": {},
   "outputs": [
    {
     "data": {
      "text/plain": [
       "(7235374.830975222, 0.0, 0.3019689182087785, 199.5920175343417)"
      ]
     },
     "execution_count": 144,
     "metadata": {},
     "output_type": "execute_result"
    }
   ],
   "source": [
    "jarque_bera(dataframe1['ICDC log returns'])"
   ]
  },
  {
   "cell_type": "code",
   "execution_count": 145,
   "metadata": {},
   "outputs": [
    {
     "data": {
      "text/plain": [
       "(22262109.397337284, 0.0, -0.13617210716850825, 347.84222008248753)"
      ]
     },
     "execution_count": 145,
     "metadata": {},
     "output_type": "execute_result"
    }
   ],
   "source": [
    "jarque_bera(dataframe1['KPLC log returns'])"
   ]
  },
  {
   "cell_type": "code",
   "execution_count": 146,
   "metadata": {},
   "outputs": [
    {
     "data": {
      "text/plain": [
       "(121925184.75407204, 0.0, 1.248752584992389, 810.0158101840149)"
      ]
     },
     "execution_count": 146,
     "metadata": {},
     "output_type": "execute_result"
    }
   ],
   "source": [
    "jarque_bera(dataframe1['NMG log returns'])"
   ]
  },
  {
   "cell_type": "code",
   "execution_count": 147,
   "metadata": {},
   "outputs": [
    {
     "data": {
      "text/plain": [
       "(68260075.03343278, 0.0, 0.15978383751207365, 606.8384051121855)"
      ]
     },
     "execution_count": 147,
     "metadata": {},
     "output_type": "execute_result"
    }
   ],
   "source": [
    "jarque_bera(dataframe1['TOTL log returns'])"
   ]
  },
  {
   "cell_type": "code",
   "execution_count": 148,
   "metadata": {},
   "outputs": [
    {
     "data": {
      "text/plain": [
       "(446865445.563707, 0.0, -0.7770176196690924, 1547.9896651417766)"
      ]
     },
     "execution_count": 148,
     "metadata": {},
     "output_type": "execute_result"
    }
   ],
   "source": [
    "jarque_bera(dataframe1['JUB log returns'])"
   ]
  },
  {
   "cell_type": "code",
   "execution_count": 149,
   "metadata": {},
   "outputs": [
    {
     "data": {
      "text/plain": [
       "(16332.090579037915, 0.0, -0.33112646664263407, 12.316738222299586)"
      ]
     },
     "execution_count": 149,
     "metadata": {},
     "output_type": "execute_result"
    }
   ],
   "source": [
    "jarque_bera(dataframe1['FIRE log returns'])"
   ]
  },
  {
   "cell_type": "code",
   "execution_count": 150,
   "metadata": {},
   "outputs": [
    {
     "data": {
      "text/plain": [
       "(98730998.58606811, 0.0, -0.167927078024209, 729.2131854734064)"
      ]
     },
     "execution_count": 150,
     "metadata": {},
     "output_type": "execute_result"
    }
   ],
   "source": [
    "jarque_bera(dataframe1['HFCK log returns'])"
   ]
  },
  {
   "cell_type": "code",
   "execution_count": 151,
   "metadata": {},
   "outputs": [],
   "source": [
    "#####for simple return series"
   ]
  },
  {
   "cell_type": "code",
   "execution_count": 152,
   "metadata": {},
   "outputs": [
    {
     "data": {
      "text/plain": [
       "(2240992012.7493076, 0.0, 54.512519407543856, 3461.1341561339405)"
      ]
     },
     "execution_count": 152,
     "metadata": {},
     "output_type": "execute_result"
    }
   ],
   "source": [
    "jarque_bera(dataframe2['BBK simple returns'])"
   ]
  },
  {
   "cell_type": "code",
   "execution_count": 153,
   "metadata": {},
   "outputs": [
    {
     "data": {
      "text/plain": [
       "(704572111.8619123, 0.0, 40.35688170996412, 1941.3130975780916)"
      ]
     },
     "execution_count": 153,
     "metadata": {},
     "output_type": "execute_result"
    }
   ],
   "source": [
    "jarque_bera(dataframe2['TOTL simple returns'])"
   ]
  },
  {
   "cell_type": "code",
   "execution_count": 154,
   "metadata": {},
   "outputs": [
    {
     "data": {
      "text/plain": [
       "(1888758124.322108, 0.0, 50.886603766994824, 3177.69888136986)"
      ]
     },
     "execution_count": 154,
     "metadata": {},
     "output_type": "execute_result"
    }
   ],
   "source": [
    "jarque_bera(dataframe2['SCBK simple returns'])"
   ]
  },
  {
   "cell_type": "code",
   "execution_count": 155,
   "metadata": {},
   "outputs": [
    {
     "data": {
      "text/plain": [
       "(14437.719863740991, 0.0, 0.18235487559594646, 11.774287755707034)"
      ]
     },
     "execution_count": 155,
     "metadata": {},
     "output_type": "execute_result"
    }
   ],
   "source": [
    "jarque_bera(dataframe2['FIRE simple returns'])"
   ]
  },
  {
   "cell_type": "code",
   "execution_count": 156,
   "metadata": {},
   "outputs": [
    {
     "data": {
      "text/plain": [
       "(207944206.32676658, 0.0, 31.315667702815336, 1055.0650823137714)"
      ]
     },
     "execution_count": 156,
     "metadata": {},
     "output_type": "execute_result"
    }
   ],
   "source": [
    "jarque_bera(dataframe2['KPLC simple returns'])"
   ]
  },
  {
   "cell_type": "code",
   "execution_count": 157,
   "metadata": {},
   "outputs": [
    {
     "data": {
      "text/plain": [
       "(958604958.8494844, 0.0, 39.350048635762114, 2264.488743371504)"
      ]
     },
     "execution_count": 157,
     "metadata": {},
     "output_type": "execute_result"
    }
   ],
   "source": [
    "jarque_bera(dataframe2['NMG simple returns'])"
   ]
  },
  {
   "cell_type": "code",
   "execution_count": 158,
   "metadata": {},
   "outputs": [
    {
     "data": {
      "text/plain": [
       "(3348008320.9889383, 0.0, 64.01747987427659, 4229.993112279423)"
      ]
     },
     "execution_count": 158,
     "metadata": {},
     "output_type": "execute_result"
    }
   ],
   "source": [
    "jarque_bera(dataframe2['JUB simple returns'])"
   ]
  },
  {
   "cell_type": "code",
   "execution_count": 159,
   "metadata": {},
   "outputs": [
    {
     "data": {
      "text/plain": [
       "(26344448.730524845, 0.0, 9.343748185102603, 377.66439103370664)"
      ]
     },
     "execution_count": 159,
     "metadata": {},
     "output_type": "execute_result"
    }
   ],
   "source": [
    "jarque_bera(dataframe2['ICDC simple returns'])"
   ]
  },
  {
   "cell_type": "code",
   "execution_count": 160,
   "metadata": {},
   "outputs": [
    {
     "data": {
      "text/plain": [
       "(43247.61382935118, 0.0, 0.3406496386032719, 18.183844234305504)"
      ]
     },
     "execution_count": 160,
     "metadata": {},
     "output_type": "execute_result"
    }
   ],
   "source": [
    "jarque_bera(dataframe2['KCB simple returns'])"
   ]
  },
  {
   "cell_type": "code",
   "execution_count": 161,
   "metadata": {},
   "outputs": [
    {
     "data": {
      "text/plain": [
       "(1253825800.000899, 0.0, 43.85010719556678, 2589.464367112934)"
      ]
     },
     "execution_count": 161,
     "metadata": {},
     "output_type": "execute_result"
    }
   ],
   "source": [
    "jarque_bera(dataframe2['HFCK simple returns'])"
   ]
  },
  {
   "cell_type": "code",
   "execution_count": null,
   "metadata": {},
   "outputs": [],
   "source": []
  },
  {
   "cell_type": "code",
   "execution_count": 162,
   "metadata": {},
   "outputs": [],
   "source": [
    "################### 2 part(B)"
   ]
  },
  {
   "cell_type": "code",
   "execution_count": null,
   "metadata": {},
   "outputs": [],
   "source": [
    "### B (I)"
   ]
  },
  {
   "cell_type": "code",
   "execution_count": 163,
   "metadata": {},
   "outputs": [],
   "source": [
    "monthlydata = pd.read_excel(\"monthlydata.xlsx\", index_col = \"Exchange Date\")"
   ]
  },
  {
   "cell_type": "code",
   "execution_count": 164,
   "metadata": {},
   "outputs": [
    {
     "data": {
      "text/html": [
       "<div>\n",
       "<style scoped>\n",
       "    .dataframe tbody tr th:only-of-type {\n",
       "        vertical-align: middle;\n",
       "    }\n",
       "\n",
       "    .dataframe tbody tr th {\n",
       "        vertical-align: top;\n",
       "    }\n",
       "\n",
       "    .dataframe thead th {\n",
       "        text-align: right;\n",
       "    }\n",
       "</style>\n",
       "<table border=\"1\" class=\"dataframe\">\n",
       "  <thead>\n",
       "    <tr style=\"text-align: right;\">\n",
       "      <th></th>\n",
       "      <th>BBK</th>\n",
       "      <th>FIRE</th>\n",
       "      <th>HFCK</th>\n",
       "      <th>ICDC</th>\n",
       "      <th>JUB</th>\n",
       "      <th>KCB</th>\n",
       "      <th>KPLC</th>\n",
       "      <th>NMG</th>\n",
       "      <th>SCBK</th>\n",
       "      <th>TOTL</th>\n",
       "    </tr>\n",
       "    <tr>\n",
       "      <th>Exchange Date</th>\n",
       "      <th></th>\n",
       "      <th></th>\n",
       "      <th></th>\n",
       "      <th></th>\n",
       "      <th></th>\n",
       "      <th></th>\n",
       "      <th></th>\n",
       "      <th></th>\n",
       "      <th></th>\n",
       "      <th></th>\n",
       "    </tr>\n",
       "  </thead>\n",
       "  <tbody>\n",
       "    <tr>\n",
       "      <th>2002-01-31</th>\n",
       "      <td>3.26250</td>\n",
       "      <td>7.35</td>\n",
       "      <td>3.181818</td>\n",
       "      <td>2.851240</td>\n",
       "      <td>10.245207</td>\n",
       "      <td>1.669754</td>\n",
       "      <td>1.730702</td>\n",
       "      <td>16.666662</td>\n",
       "      <td>48.276028</td>\n",
       "      <td>16.85</td>\n",
       "    </tr>\n",
       "    <tr>\n",
       "      <th>2002-02-28</th>\n",
       "      <td>3.18750</td>\n",
       "      <td>7.90</td>\n",
       "      <td>2.784091</td>\n",
       "      <td>2.644629</td>\n",
       "      <td>9.624285</td>\n",
       "      <td>1.622047</td>\n",
       "      <td>1.628896</td>\n",
       "      <td>17.613631</td>\n",
       "      <td>43.103596</td>\n",
       "      <td>17.00</td>\n",
       "    </tr>\n",
       "    <tr>\n",
       "      <th>2002-03-31</th>\n",
       "      <td>2.77500</td>\n",
       "      <td>7.10</td>\n",
       "      <td>2.465909</td>\n",
       "      <td>1.756199</td>\n",
       "      <td>9.469055</td>\n",
       "      <td>1.440759</td>\n",
       "      <td>1.018060</td>\n",
       "      <td>23.674235</td>\n",
       "      <td>39.870826</td>\n",
       "      <td>14.50</td>\n",
       "    </tr>\n",
       "    <tr>\n",
       "      <th>2002-04-30</th>\n",
       "      <td>2.81250</td>\n",
       "      <td>6.55</td>\n",
       "      <td>2.426137</td>\n",
       "      <td>1.673554</td>\n",
       "      <td>9.375917</td>\n",
       "      <td>1.335803</td>\n",
       "      <td>0.916254</td>\n",
       "      <td>23.106054</td>\n",
       "      <td>40.517380</td>\n",
       "      <td>13.65</td>\n",
       "    </tr>\n",
       "    <tr>\n",
       "      <th>2002-05-31</th>\n",
       "      <td>3.09375</td>\n",
       "      <td>7.50</td>\n",
       "      <td>2.585228</td>\n",
       "      <td>1.652893</td>\n",
       "      <td>9.624285</td>\n",
       "      <td>1.001852</td>\n",
       "      <td>0.875532</td>\n",
       "      <td>15.151511</td>\n",
       "      <td>42.672560</td>\n",
       "      <td>8.90</td>\n",
       "    </tr>\n",
       "  </tbody>\n",
       "</table>\n",
       "</div>"
      ],
      "text/plain": [
       "                   BBK  FIRE      HFCK      ICDC        JUB       KCB  \\\n",
       "Exchange Date                                                           \n",
       "2002-01-31     3.26250  7.35  3.181818  2.851240  10.245207  1.669754   \n",
       "2002-02-28     3.18750  7.90  2.784091  2.644629   9.624285  1.622047   \n",
       "2002-03-31     2.77500  7.10  2.465909  1.756199   9.469055  1.440759   \n",
       "2002-04-30     2.81250  6.55  2.426137  1.673554   9.375917  1.335803   \n",
       "2002-05-31     3.09375  7.50  2.585228  1.652893   9.624285  1.001852   \n",
       "\n",
       "                   KPLC        NMG       SCBK   TOTL  \n",
       "Exchange Date                                         \n",
       "2002-01-31     1.730702  16.666662  48.276028  16.85  \n",
       "2002-02-28     1.628896  17.613631  43.103596  17.00  \n",
       "2002-03-31     1.018060  23.674235  39.870826  14.50  \n",
       "2002-04-30     0.916254  23.106054  40.517380  13.65  \n",
       "2002-05-31     0.875532  15.151511  42.672560   8.90  "
      ]
     },
     "execution_count": 164,
     "metadata": {},
     "output_type": "execute_result"
    }
   ],
   "source": [
    "monthlydata.head()"
   ]
  },
  {
   "cell_type": "code",
   "execution_count": 165,
   "metadata": {},
   "outputs": [],
   "source": [
    "monthlydata = monthlydata.ffill()"
   ]
  },
  {
   "cell_type": "code",
   "execution_count": 166,
   "metadata": {},
   "outputs": [],
   "source": [
    "ret = (monthlydata.pct_change())"
   ]
  },
  {
   "cell_type": "code",
   "execution_count": 167,
   "metadata": {},
   "outputs": [
    {
     "data": {
      "text/html": [
       "<div>\n",
       "<style scoped>\n",
       "    .dataframe tbody tr th:only-of-type {\n",
       "        vertical-align: middle;\n",
       "    }\n",
       "\n",
       "    .dataframe tbody tr th {\n",
       "        vertical-align: top;\n",
       "    }\n",
       "\n",
       "    .dataframe thead th {\n",
       "        text-align: right;\n",
       "    }\n",
       "</style>\n",
       "<table border=\"1\" class=\"dataframe\">\n",
       "  <thead>\n",
       "    <tr style=\"text-align: right;\">\n",
       "      <th></th>\n",
       "      <th>BBK</th>\n",
       "      <th>FIRE</th>\n",
       "      <th>HFCK</th>\n",
       "      <th>ICDC</th>\n",
       "      <th>JUB</th>\n",
       "      <th>KCB</th>\n",
       "      <th>KPLC</th>\n",
       "      <th>NMG</th>\n",
       "      <th>SCBK</th>\n",
       "      <th>TOTL</th>\n",
       "    </tr>\n",
       "    <tr>\n",
       "      <th>Exchange Date</th>\n",
       "      <th></th>\n",
       "      <th></th>\n",
       "      <th></th>\n",
       "      <th></th>\n",
       "      <th></th>\n",
       "      <th></th>\n",
       "      <th></th>\n",
       "      <th></th>\n",
       "      <th></th>\n",
       "      <th></th>\n",
       "    </tr>\n",
       "  </thead>\n",
       "  <tbody>\n",
       "    <tr>\n",
       "      <th>2002-01-31</th>\n",
       "      <td>NaN</td>\n",
       "      <td>NaN</td>\n",
       "      <td>NaN</td>\n",
       "      <td>NaN</td>\n",
       "      <td>NaN</td>\n",
       "      <td>NaN</td>\n",
       "      <td>NaN</td>\n",
       "      <td>NaN</td>\n",
       "      <td>NaN</td>\n",
       "      <td>NaN</td>\n",
       "    </tr>\n",
       "    <tr>\n",
       "      <th>2002-02-28</th>\n",
       "      <td>-0.022989</td>\n",
       "      <td>0.074830</td>\n",
       "      <td>-0.125000</td>\n",
       "      <td>-0.072464</td>\n",
       "      <td>-0.060606</td>\n",
       "      <td>-0.028571</td>\n",
       "      <td>-0.058824</td>\n",
       "      <td>0.056818</td>\n",
       "      <td>-0.107143</td>\n",
       "      <td>0.008902</td>\n",
       "    </tr>\n",
       "    <tr>\n",
       "      <th>2002-03-31</th>\n",
       "      <td>-0.129412</td>\n",
       "      <td>-0.101266</td>\n",
       "      <td>-0.114286</td>\n",
       "      <td>-0.335938</td>\n",
       "      <td>-0.016129</td>\n",
       "      <td>-0.111765</td>\n",
       "      <td>-0.375000</td>\n",
       "      <td>0.344086</td>\n",
       "      <td>-0.075000</td>\n",
       "      <td>-0.147059</td>\n",
       "    </tr>\n",
       "  </tbody>\n",
       "</table>\n",
       "</div>"
      ],
      "text/plain": [
       "                    BBK      FIRE      HFCK      ICDC       JUB       KCB  \\\n",
       "Exchange Date                                                               \n",
       "2002-01-31          NaN       NaN       NaN       NaN       NaN       NaN   \n",
       "2002-02-28    -0.022989  0.074830 -0.125000 -0.072464 -0.060606 -0.028571   \n",
       "2002-03-31    -0.129412 -0.101266 -0.114286 -0.335938 -0.016129 -0.111765   \n",
       "\n",
       "                   KPLC       NMG      SCBK      TOTL  \n",
       "Exchange Date                                          \n",
       "2002-01-31          NaN       NaN       NaN       NaN  \n",
       "2002-02-28    -0.058824  0.056818 -0.107143  0.008902  \n",
       "2002-03-31    -0.375000  0.344086 -0.075000 -0.147059  "
      ]
     },
     "execution_count": 167,
     "metadata": {},
     "output_type": "execute_result"
    }
   ],
   "source": [
    "ret.head(3)"
   ]
  },
  {
   "cell_type": "code",
   "execution_count": 168,
   "metadata": {},
   "outputs": [],
   "source": [
    "ret.dropna(inplace = True)"
   ]
  },
  {
   "cell_type": "code",
   "execution_count": 269,
   "metadata": {},
   "outputs": [
    {
     "data": {
      "text/plain": [
       "BBK     0.125400\n",
       "FIRE   -0.000931\n",
       "HFCK    0.145015\n",
       "ICDC    0.232256\n",
       "JUB     0.301607\n",
       "KCB     0.271287\n",
       "KPLC    0.765468\n",
       "NMG     0.144340\n",
       "SCBK    0.117237\n",
       "TOTL    0.364647\n",
       "dtype: float64"
      ]
     },
     "execution_count": 269,
     "metadata": {},
     "output_type": "execute_result"
    }
   ],
   "source": [
    "z=ret.mean()*12\n",
    "z"
   ]
  },
  {
   "cell_type": "code",
   "execution_count": 170,
   "metadata": {},
   "outputs": [],
   "source": [
    "zc=ret.cov()*12"
   ]
  },
  {
   "cell_type": "code",
   "execution_count": 171,
   "metadata": {},
   "outputs": [],
   "source": [
    "np.random.seed(12)\n",
    "num_ports = 6000\n",
    "all_weights = np.zeros((num_ports, len(monthlydata.columns)))\n",
    "ret_arr = np.zeros(num_ports)\n",
    "vol_arr = np.zeros(num_ports)\n",
    "sharpe_arr = np.zeros(num_ports)\n",
    "\n",
    "for x in range(num_ports):\n",
    "    # Weights\n",
    "    weights = np.array(np.random.random(10))\n",
    "    weights = weights/np.sum(weights)\n",
    "    \n",
    "    # Save weights\n",
    "    all_weights[x,:] = weights\n",
    "    \n",
    "    # Expected return\n",
    "    ret_arr[x] = np.sum( (z * weights))\n",
    "    \n",
    "    # Expected volatility\n",
    "    vol_arr[x] = np.sqrt(np.dot(weights.T, np.dot(zc, weights)))\n",
    "    \n",
    "    # Sharpe Ratio\n",
    "    sharpe_arr[x] = ret_arr[x]/vol_arr[x]"
   ]
  },
  {
   "cell_type": "code",
   "execution_count": 172,
   "metadata": {},
   "outputs": [
    {
     "name": "stdout",
     "output_type": "stream",
     "text": [
      "max sharpe ratio in the array:0.8010286250717439\n",
      "its location in the array:1330\n"
     ]
    }
   ],
   "source": [
    "print('max sharpe ratio in the array:{}'.format(sharpe_arr.max()))\n",
    "print(\"its location in the array:{}\".format(sharpe_arr.argmax()))"
   ]
  },
  {
   "cell_type": "code",
   "execution_count": 173,
   "metadata": {},
   "outputs": [
    {
     "name": "stdout",
     "output_type": "stream",
     "text": [
      "[0.0109038  0.07033574 0.00915496 0.19978176 0.27569797 0.11834613\n",
      " 0.01606182 0.16641193 0.05838017 0.07492571]\n"
     ]
    }
   ],
   "source": [
    "print(all_weights[1330,:])"
   ]
  },
  {
   "cell_type": "code",
   "execution_count": 174,
   "metadata": {},
   "outputs": [],
   "source": [
    "max_sr_ret = ret_arr[sharpe_arr.argmax()]\n",
    "max_sr_vol = vol_arr[sharpe_arr.argmax()]"
   ]
  },
  {
   "cell_type": "code",
   "execution_count": 175,
   "metadata": {},
   "outputs": [
    {
     "data": {
      "image/png": "[encoded data removed]",
      "text/plain": [
       "<Figure size 864x576 with 2 Axes>"
      ]
     },
     "metadata": {
      "needs_background": "light"
     },
     "output_type": "display_data"
    }
   ],
   "source": [
    "plt.figure(figsize=(12,8))\n",
    "plt.scatter(vol_arr, ret_arr, c=sharpe_arr, cmap='viridis')\n",
    "plt.colorbar(label='Sharpe Ratio')\n",
    "plt.xlabel('Volatility')\n",
    "plt.ylabel('Return')\n",
    "plt.scatter(max_sr_vol, max_sr_ret,c='red', s=50) # red dot\n",
    "plt.show()"
   ]
  },
  {
   "cell_type": "code",
   "execution_count": 176,
   "metadata": {},
   "outputs": [],
   "source": [
    "def get_ret_vol_sr(weights):\n",
    "    weights = np.array(weights)\n",
    "    rets = np.sum(z * weights) \n",
    "    vols = np.sqrt(np.dot(weights.T, np.dot(zc, weights)))\n",
    "    sr = rets/vols\n",
    "    return np.array([rets, vols, sr])\n",
    "\n",
    "def neg_sharpe(weights):\n",
    "# the number 2 is the sharpe ratio index from the get_ret_vol_sr\n",
    "    return get_ret_vol_sr(weights)[2] * -1\n",
    "\n",
    "def check_sum(weights):\n",
    "    #return 0 if sum of the weights is 1\n",
    "    return np.sum(weights)-1"
   ]
  },
  {
   "cell_type": "code",
   "execution_count": 177,
   "metadata": {},
   "outputs": [],
   "source": [
    "cons = ({'type': 'eq', 'fun':check_sum})\n",
    "\n",
    "weightguesses = (0.1,0.1,0.1,0.1,0.1,0.1,0.1,0.1,0.1,0.1)"
   ]
  },
  {
   "cell_type": "code",
   "execution_count": 178,
   "metadata": {},
   "outputs": [],
   "source": [
    "opt_results = sco.minimize(neg_sharpe,weightguesses,method = 'SLSQP', constraints = cons)"
   ]
  },
  {
   "cell_type": "code",
   "execution_count": 179,
   "metadata": {},
   "outputs": [],
   "source": [
    "####hence our portfolio is unnconstrained thereby allowing for shortselling due to presence of negative weights."
   ]
  },
  {
   "cell_type": "code",
   "execution_count": 180,
   "metadata": {},
   "outputs": [
    {
     "data": {
      "text/plain": [
       "array([-0.308587, -0.12444 , -0.203252,  0.286067,  0.640155,  0.481885,\n",
       "        0.036798,  0.000967,  0.115129,  0.075279])"
      ]
     },
     "execution_count": 180,
     "metadata": {},
     "output_type": "execute_result"
    }
   ],
   "source": [
    "opt_results['x'].round(6)"
   ]
  },
  {
   "cell_type": "code",
   "execution_count": 181,
   "metadata": {},
   "outputs": [
    {
     "data": {
      "text/plain": [
       "array([0.39144487, 0.43821953, 0.89326205])"
      ]
     },
     "execution_count": 181,
     "metadata": {},
     "output_type": "execute_result"
    }
   ],
   "source": [
    "get_ret_vol_sr(opt_results.x)"
   ]
  },
  {
   "cell_type": "code",
   "execution_count": 182,
   "metadata": {},
   "outputs": [],
   "source": [
    "frontier_y = np.linspace(0.04,0.6,100)"
   ]
  },
  {
   "cell_type": "code",
   "execution_count": 183,
   "metadata": {},
   "outputs": [],
   "source": [
    "def minimize_volatility(weights):\n",
    "    return get_ret_vol_sr(weights)[1]"
   ]
  },
  {
   "cell_type": "code",
   "execution_count": 184,
   "metadata": {},
   "outputs": [],
   "source": [
    "frontier_x = []\n",
    "\n",
    "for possible_return in frontier_y:\n",
    "    cons = ({'type':'eq', 'fun':check_sum},\n",
    "            {'type':'eq', 'fun': lambda w: get_ret_vol_sr(w)[0] - possible_return})\n",
    "    \n",
    "    result = sco.minimize(minimize_volatility,weightguesses,method='SLSQP', constraints=cons)\n",
    "    frontier_x.append(result['fun'])"
   ]
  },
  {
   "cell_type": "code",
   "execution_count": 185,
   "metadata": {},
   "outputs": [
    {
     "data": {
      "image/png": "[encoded data removed]",
      "text/plain": [
       "<Figure size 864x576 with 2 Axes>"
      ]
     },
     "metadata": {
      "needs_background": "light"
     },
     "output_type": "display_data"
    }
   ],
   "source": [
    "plt.figure(figsize=(12,8))\n",
    "plt.scatter(vol_arr, ret_arr, c=sharpe_arr, cmap='viridis')\n",
    "plt.colorbar(label='Sharpe Ratio')\n",
    "plt.xlabel('Volatility')\n",
    "plt.ylabel('Return')\n",
    "plt.plot(frontier_x,frontier_y, 'r-', linewidth=3)\n",
    "plt.show()\n"
   ]
  },
  {
   "cell_type": "code",
   "execution_count": null,
   "metadata": {},
   "outputs": [],
   "source": []
  },
  {
   "cell_type": "code",
   "execution_count": null,
   "metadata": {},
   "outputs": [],
   "source": [
    "##### B (II)"
   ]
  },
  {
   "cell_type": "code",
   "execution_count": 186,
   "metadata": {},
   "outputs": [],
   "source": [
    "tbilldata = pd.read_excel(\"tbill rates.xlsx\", index_col = \"DATES\")"
   ]
  },
  {
   "cell_type": "code",
   "execution_count": 187,
   "metadata": {},
   "outputs": [
    {
     "data": {
      "text/html": [
       "<div>\n",
       "<style scoped>\n",
       "    .dataframe tbody tr th:only-of-type {\n",
       "        vertical-align: middle;\n",
       "    }\n",
       "\n",
       "    .dataframe tbody tr th {\n",
       "        vertical-align: top;\n",
       "    }\n",
       "\n",
       "    .dataframe thead th {\n",
       "        text-align: right;\n",
       "    }\n",
       "</style>\n",
       "<table border=\"1\" class=\"dataframe\">\n",
       "  <thead>\n",
       "    <tr style=\"text-align: right;\">\n",
       "      <th></th>\n",
       "      <th>tbill</th>\n",
       "    </tr>\n",
       "    <tr>\n",
       "      <th>DATES</th>\n",
       "      <th></th>\n",
       "    </tr>\n",
       "  </thead>\n",
       "  <tbody>\n",
       "    <tr>\n",
       "      <th>31/12/2001</th>\n",
       "      <td>0.1101</td>\n",
       "    </tr>\n",
       "    <tr>\n",
       "      <th>31/01/2002</th>\n",
       "      <td>0.1085</td>\n",
       "    </tr>\n",
       "    <tr>\n",
       "      <th>28/02/2002</th>\n",
       "      <td>0.1061</td>\n",
       "    </tr>\n",
       "  </tbody>\n",
       "</table>\n",
       "</div>"
      ],
      "text/plain": [
       "             tbill\n",
       "DATES             \n",
       "31/12/2001  0.1101\n",
       "31/01/2002  0.1085\n",
       "28/02/2002  0.1061"
      ]
     },
     "execution_count": 187,
     "metadata": {},
     "output_type": "execute_result"
    }
   ],
   "source": [
    "tbilldata.head(3)"
   ]
  },
  {
   "cell_type": "code",
   "execution_count": 188,
   "metadata": {},
   "outputs": [],
   "source": [
    "Rf= statistics.mean(tbilldata['tbill'])"
   ]
  },
  {
   "cell_type": "code",
   "execution_count": 189,
   "metadata": {},
   "outputs": [
    {
     "data": {
      "text/plain": [
       "0.07747707316990292"
      ]
     },
     "execution_count": 189,
     "metadata": {},
     "output_type": "execute_result"
    }
   ],
   "source": [
    "Rf"
   ]
  },
  {
   "cell_type": "code",
   "execution_count": 190,
   "metadata": {},
   "outputs": [],
   "source": [
    "import scipy.interpolate as sci"
   ]
  },
  {
   "cell_type": "code",
   "execution_count": 240,
   "metadata": {},
   "outputs": [
    {
     "data": {
      "text/plain": [
       "Text(0, 0.5, 'expected return')"
      ]
     },
     "execution_count": 240,
     "metadata": {},
     "output_type": "execute_result"
    },
    {
     "data": {
      "image/png": "[encoded data removed]",
      "text/plain": [
       "<Figure size 864x648 with 1 Axes>"
      ]
     },
     "metadata": {
      "needs_background": "light"
     },
     "output_type": "display_data"
    }
   ],
   "source": [
    "ind = np.argmin(frontier_x)\n",
    "evols = frontier_x[ind:]\n",
    "erets = frontier_y[ind:]\n",
    "\n",
    "lck = sci.splrep(evols, erets)\n",
    "\n",
    "def f(x):\n",
    "        return sci.splev(x, lck, der=0)\n",
    "## Efficient frontier function (splines approximation)\n",
    "def df(x):\n",
    "    return sci.splev(x, lck, der=1)\n",
    "\n",
    "### First derivative of efficient frontier function.\n",
    "\n",
    "def equations(p, rf = -0.8):\n",
    "    eq1 = rf - p[0]\n",
    "    eq2 = rf + p[1] * p[2] - f(p[2])\n",
    "    eq3 = p[1] - df(p[2])\n",
    "    return eq1, eq2, eq3\n",
    "\n",
    "opt = sco.fsolve(equations, [0.001, 0.5, 0.15])\n",
    "\n",
    "opt\n",
    "\n",
    "plt.figure(figsize=(12, 9))\n",
    "###plt.scatter(vol_arr, ret_arr, c=(ret_arr - -0.5) / vol_arr, marker='o')\n",
    "####random portfolio composition\n",
    "plt.plot(evols, erets, 'g', lw=4.0)\n",
    "# efficient frontier\n",
    "cx = np.linspace(-0.8, 0.4)\n",
    "plt.plot(cx, opt[0] + opt[1] * cx, lw=1.5)\n",
    "# capital market line\n",
    "plt.plot(opt[2], f(opt[2]), 'r*', markersize=15.0)\n",
    "plt.grid(True)\n",
    "plt.axhline(0, color='k', ls='-', lw=2.0)\n",
    "plt.axvline(0, color='k', ls='-', lw=2.0)\n",
    "plt.xlabel('expected volatility')\n",
    "plt.ylabel('expected return')\n",
    "####plt.colorbar(label='Sharpe ratio')"
   ]
  },
  {
   "cell_type": "code",
   "execution_count": 196,
   "metadata": {},
   "outputs": [],
   "source": [
    "####due to the unconstraiined nature of the portfolio weights that allow for shortselling. the tangency portfolio is got at the \n",
    "#### global minimum variance and the risk free rate would have to be negative so as to allow for tangency which is not feasible\n",
    "###we thus concluded that the investor`s optimal investment would yield him a retun of 0.1"
   ]
  },
  {
   "cell_type": "code",
   "execution_count": 197,
   "metadata": {},
   "outputs": [],
   "source": [
    "eretsw = erets.flat"
   ]
  },
  {
   "cell_type": "code",
   "execution_count": 198,
   "metadata": {},
   "outputs": [
    {
     "data": {
      "text/plain": [
       "(array([2], dtype=int64),)"
      ]
     },
     "execution_count": 198,
     "metadata": {},
     "output_type": "execute_result"
    }
   ],
   "source": [
    "np.where(eretsw == 0.10222222222222221)"
   ]
  },
  {
   "cell_type": "code",
   "execution_count": 199,
   "metadata": {},
   "outputs": [
    {
     "name": "stdout",
     "output_type": "stream",
     "text": [
      "[0.17664161 0.00480783 0.03123853 0.02686335 0.07159775 0.15513028\n",
      " 0.10887143 0.18856492 0.06690521 0.16937909]\n"
     ]
    }
   ],
   "source": [
    "print(all_weights[2,:])"
   ]
  },
  {
   "cell_type": "code",
   "execution_count": null,
   "metadata": {},
   "outputs": [],
   "source": []
  },
  {
   "cell_type": "code",
   "execution_count": null,
   "metadata": {},
   "outputs": [],
   "source": [
    "#### B(III) 95% confidence intervall for boot strapped sharpe ratios"
   ]
  },
  {
   "cell_type": "code",
   "execution_count": 239,
   "metadata": {},
   "outputs": [],
   "source": [
    "bootarr = np.random.choice(sharpe_arr, size = 1000)\n",
    "\n",
    "import pandas as pd\n",
    "\n",
    "bootdf = pd.DataFrame(bootarr)"
   ]
  },
  {
   "cell_type": "code",
   "execution_count": 236,
   "metadata": {},
   "outputs": [],
   "source": [
    "perc025 = bootdf.quantile(0.025)\n",
    "\n",
    "perc0975 = bootdf.quantile(0.975)"
   ]
  },
  {
   "cell_type": "code",
   "execution_count": 237,
   "metadata": {},
   "outputs": [
    {
     "data": {
      "text/plain": [
       "0    0.466871\n",
       "Name: 0.025, dtype: float64"
      ]
     },
     "execution_count": 237,
     "metadata": {},
     "output_type": "execute_result"
    }
   ],
   "source": [
    "perc025"
   ]
  },
  {
   "cell_type": "code",
   "execution_count": 238,
   "metadata": {},
   "outputs": [
    {
     "data": {
      "text/plain": [
       "0    0.728037\n",
       "Name: 0.975, dtype: float64"
      ]
     },
     "execution_count": 238,
     "metadata": {},
     "output_type": "execute_result"
    }
   ],
   "source": [
    "perc0975"
   ]
  },
  {
   "cell_type": "code",
   "execution_count": null,
   "metadata": {},
   "outputs": [],
   "source": []
  },
  {
   "cell_type": "code",
   "execution_count": null,
   "metadata": {},
   "outputs": [],
   "source": []
  },
  {
   "cell_type": "code",
   "execution_count": 200,
   "metadata": {},
   "outputs": [],
   "source": [
    "####C"
   ]
  },
  {
   "cell_type": "code",
   "execution_count": 201,
   "metadata": {},
   "outputs": [],
   "source": [
    "cons1 = ({'type': 'eq', 'fun':check_sum})\n",
    "bnds1 = ((0,0.5),(0,0.5),(0,0.5),(0,0.5),(0,0.5),(0,0.5),(0,0.5),(0,0.5),(0,0.5),(0,0.5))\n",
    "weightguesses = (0.1,0.1,0.1,0.1,0.1,0.1,0.1,0.1,0.1,0.1)\n"
   ]
  },
  {
   "cell_type": "code",
   "execution_count": 202,
   "metadata": {},
   "outputs": [],
   "source": [
    "opt_results2 = sco.minimize(neg_sharpe,weightguesses,method = 'SLSQP', bounds = bnds1, constraints = cons1)"
   ]
  },
  {
   "cell_type": "code",
   "execution_count": 203,
   "metadata": {},
   "outputs": [],
   "source": [
    "frontier_y1 = np.linspace(0.01,0.45,100)"
   ]
  },
  {
   "cell_type": "code",
   "execution_count": 204,
   "metadata": {},
   "outputs": [],
   "source": [
    "frontier_x1 = []\n",
    "\n",
    "for possible_return in frontier_y1:\n",
    "    cons1 = ({'type':'eq', 'fun':check_sum},\n",
    "            {'type':'eq', 'fun': lambda w: get_ret_vol_sr(w)[0] - possible_return})\n",
    "    \n",
    "    resultb = sco.minimize(minimize_volatility,weightguesses,method='SLSQP', bounds=bnds1, constraints=cons1)\n",
    "    frontier_x1.append(resultb['fun'])"
   ]
  },
  {
   "cell_type": "code",
   "execution_count": 205,
   "metadata": {},
   "outputs": [
    {
     "data": {
      "image/png": "[encoded data removed]",
      "text/plain": [
       "<Figure size 864x576 with 2 Axes>"
      ]
     },
     "metadata": {
      "needs_background": "light"
     },
     "output_type": "display_data"
    }
   ],
   "source": [
    "plt.figure(figsize=(12,8))\n",
    "plt.scatter(vol_arr, ret_arr, c=sharpe_arr, cmap='viridis')\n",
    "plt.colorbar(label='Sharpe Ratio')\n",
    "plt.xlabel('Volatility')\n",
    "plt.ylabel('Return')\n",
    "plt.plot(frontier_x1,frontier_y1, 'r-', linewidth=3)\n",
    "plt.show()"
   ]
  },
  {
   "cell_type": "code",
   "execution_count": 206,
   "metadata": {},
   "outputs": [],
   "source": [
    "ind1 = np.argmin(frontier_x1)\n",
    "evols1 = frontier_x1[ind1:]\n",
    "erets1 = frontier_y1[ind1:]"
   ]
  },
  {
   "cell_type": "code",
   "execution_count": 207,
   "metadata": {},
   "outputs": [],
   "source": [
    "lck1 = sci.splrep(evols1, erets1)"
   ]
  },
  {
   "cell_type": "code",
   "execution_count": 208,
   "metadata": {},
   "outputs": [],
   "source": [
    "def f(x):\n",
    "        return sci.splev(x, lck1, der=0)\n",
    "## Efficient frontier function (splines approximation)\n",
    "def df(x):\n",
    "    return sci.splev(x, lck1, der=1)\n",
    "\n",
    "### First derivative of efficient frontier function."
   ]
  },
  {
   "cell_type": "code",
   "execution_count": 209,
   "metadata": {},
   "outputs": [],
   "source": [
    "def equations1(p, rf = Rf):\n",
    "    eq1 = rf - p[0]\n",
    "    eq2 = rf + p[1] * p[2] - f(p[2])\n",
    "    eq3 = p[1] - df(p[2])\n",
    "    return eq1, eq2, eq3"
   ]
  },
  {
   "cell_type": "code",
   "execution_count": 210,
   "metadata": {},
   "outputs": [],
   "source": [
    "opt1 = sco.fsolve(equations1, [0.001, 0.5, 0.15])"
   ]
  },
  {
   "cell_type": "code",
   "execution_count": 211,
   "metadata": {},
   "outputs": [
    {
     "data": {
      "text/plain": [
       "array([0.07747707, 0.63994848, 0.36926915])"
      ]
     },
     "execution_count": 211,
     "metadata": {},
     "output_type": "execute_result"
    }
   ],
   "source": [
    "opt1"
   ]
  },
  {
   "cell_type": "code",
   "execution_count": 212,
   "metadata": {},
   "outputs": [
    {
     "data": {
      "text/plain": [
       "Text(0, 0.5, 'expected return')"
      ]
     },
     "execution_count": 212,
     "metadata": {},
     "output_type": "execute_result"
    },
    {
     "data": {
      "image/png": "[encoded data removed]",
      "text/plain": [
       "<Figure size 864x648 with 1 Axes>"
      ]
     },
     "metadata": {
      "needs_background": "light"
     },
     "output_type": "display_data"
    }
   ],
   "source": [
    "plt.figure(figsize=(12, 9))\n",
    "####plt.scatter(vol_arr, ret_arr,\n",
    "#####c=(ret_arr - rf1) / vol_arr, marker='o')\n",
    "####random portfolio composition\n",
    "plt.plot(evols1, erets1, 'g', lw=4.0)\n",
    "# efficient frontier\n",
    "cx = np.linspace(Rf, 0.5)\n",
    "plt.plot(cx, opt1[0] + opt1[1] * cx, lw=1.5)\n",
    "# capital market line\n",
    "plt.plot(opt1[2], f(opt1[2]), 'r*', markersize=15.0)\n",
    "plt.grid(True)\n",
    "plt.axhline(0, color='k', ls='-', lw=2.0)\n",
    "plt.axvline(0, color='k', ls='-', lw=2.0)\n",
    "plt.xlabel('expected volatility')\n",
    "plt.ylabel('expected return')\n",
    "####plt.colorbar(label='Sharpe ratio')"
   ]
  },
  {
   "cell_type": "code",
   "execution_count": 213,
   "metadata": {},
   "outputs": [],
   "source": [
    "eretsz = erets1.flat"
   ]
  },
  {
   "cell_type": "code",
   "execution_count": 214,
   "metadata": {},
   "outputs": [],
   "source": [
    "##the tangecy portfolio return is approximately 0.32555555555555554 and are located at position 50 in the expected returns array"
   ]
  },
  {
   "cell_type": "code",
   "execution_count": 215,
   "metadata": {},
   "outputs": [
    {
     "data": {
      "text/plain": [
       "(array([50], dtype=int64),)"
      ]
     },
     "execution_count": 215,
     "metadata": {},
     "output_type": "execute_result"
    }
   ],
   "source": [
    "np.where(eretsz ==  0.32555555555555554)"
   ]
  },
  {
   "cell_type": "code",
   "execution_count": 216,
   "metadata": {},
   "outputs": [
    {
     "name": "stdout",
     "output_type": "stream",
     "text": [
      "[0.06408297 0.13900109 0.05833215 0.14059115 0.18211222 0.07172932\n",
      " 0.05322034 0.15430259 0.02835761 0.10827057]\n"
     ]
    }
   ],
   "source": [
    "print(all_weights[50,:])"
   ]
  },
  {
   "cell_type": "code",
   "execution_count": 217,
   "metadata": {},
   "outputs": [],
   "source": [
    "####the above weights are for the 10  assets at the tangecy portfolio"
   ]
  },
  {
   "cell_type": "code",
   "execution_count": null,
   "metadata": {},
   "outputs": [],
   "source": []
  },
  {
   "cell_type": "code",
   "execution_count": 218,
   "metadata": {},
   "outputs": [],
   "source": [
    "####D"
   ]
  },
  {
   "cell_type": "code",
   "execution_count": 219,
   "metadata": {},
   "outputs": [],
   "source": [
    "cons2 = ({'type': 'eq', 'fun':check_sum})\n",
    "bnds2 = ((0,0.5),(0,0.5),(0,0.5),(0,0.5),(0,0.5),(0,0.5),(0,0.5),(0,0.5),(0,0.5),(0,0.5))\n",
    "weightguesses = (0.1,0.1,0.1,0.1,0.1,0.1,0.1,0.1,0.1,0.1)"
   ]
  },
  {
   "cell_type": "code",
   "execution_count": 220,
   "metadata": {},
   "outputs": [],
   "source": [
    "opt2 = sco.minimize(neg_sharpe,weightguesses,method = 'SLSQP', bounds = bnds2, constraints = cons2)"
   ]
  },
  {
   "cell_type": "code",
   "execution_count": 221,
   "metadata": {},
   "outputs": [],
   "source": [
    "frontier_y2= np.linspace(0.01,0.45,100)"
   ]
  },
  {
   "cell_type": "code",
   "execution_count": 222,
   "metadata": {},
   "outputs": [],
   "source": [
    "frontier_x2 = []\n",
    "\n",
    "for possible_return in frontier_y2:\n",
    "    cons2 = ({'type':'eq', 'fun':check_sum},\n",
    "            {'type':'eq', 'fun': lambda w: get_ret_vol_sr(w)[0] - possible_return})\n",
    "    \n",
    "    resultc = sco.minimize(minimize_volatility,weightguesses,method='SLSQP', bounds=bnds2, constraints=cons2)\n",
    "    frontier_x2.append(resultc['fun'])"
   ]
  },
  {
   "cell_type": "code",
   "execution_count": 223,
   "metadata": {},
   "outputs": [
    {
     "data": {
      "image/png": "[encoded data removed]",
      "text/plain": [
       "<Figure size 864x576 with 2 Axes>"
      ]
     },
     "metadata": {
      "needs_background": "light"
     },
     "output_type": "display_data"
    }
   ],
   "source": [
    "plt.figure(figsize=(12,8))\n",
    "plt.scatter(vol_arr, ret_arr, c=sharpe_arr, cmap='viridis')\n",
    "plt.colorbar(label='Sharpe Ratio')\n",
    "plt.xlabel('Volatility')\n",
    "plt.ylabel('Return')\n",
    "plt.plot(frontier_x2,frontier_y2, 'r-', linewidth=3)\n",
    "plt.show()"
   ]
  },
  {
   "cell_type": "code",
   "execution_count": 224,
   "metadata": {},
   "outputs": [],
   "source": [
    "ind2 = np.argmin(frontier_x2)\n",
    "evols2 = frontier_x2[ind2:]\n",
    "erets2 = frontier_y2[ind2:]"
   ]
  },
  {
   "cell_type": "code",
   "execution_count": 225,
   "metadata": {},
   "outputs": [],
   "source": [
    "lck2 = sci.splrep(evols2, erets2)\n",
    "\n",
    "def f(x):\n",
    "        return sci.splev(x, lck2, der=0)\n",
    "## Efficient frontier function (splines approximation)\n",
    "def df(x):\n",
    "    return sci.splev(x, lck2, der=1)\n",
    "\n",
    "### First derivative of efficient frontier function."
   ]
  },
  {
   "cell_type": "code",
   "execution_count": 226,
   "metadata": {},
   "outputs": [],
   "source": [
    "def equations2(p1, rf1 = 0.07747707):\n",
    "    eq1 = rf1 - p1[0]\n",
    "    eq2 = rf1 + p1[1] * p1[2] - f(p1[2])\n",
    "    eq3 = p1[1] - df(p1[2])\n",
    "    return eq1, eq2, eq3"
   ]
  },
  {
   "cell_type": "code",
   "execution_count": 227,
   "metadata": {},
   "outputs": [
    {
     "data": {
      "text/plain": [
       "array([0.07747707, 0.63994848, 0.36926915])"
      ]
     },
     "execution_count": 227,
     "metadata": {},
     "output_type": "execute_result"
    }
   ],
   "source": [
    "opt2 = sco.fsolve(equations2, [0.001, 0.5, 0.15])\n",
    "\n",
    "opt2"
   ]
  },
  {
   "cell_type": "code",
   "execution_count": 228,
   "metadata": {},
   "outputs": [
    {
     "data": {
      "text/plain": [
       "Text(0, 0.5, 'expected return')"
      ]
     },
     "execution_count": 228,
     "metadata": {},
     "output_type": "execute_result"
    },
    {
     "data": {
      "image/png": "[encoded data removed]",
      "text/plain": [
       "<Figure size 864x648 with 1 Axes>"
      ]
     },
     "metadata": {
      "needs_background": "light"
     },
     "output_type": "display_data"
    }
   ],
   "source": [
    "plt.figure(figsize=(12, 9))\n",
    "####plt.scatter(vol_arr, ret_arr,\n",
    "#####c=(ret_arr - rf1) / vol_arr, marker='o')\n",
    "####random portfolio composition\n",
    "plt.plot(evols2, erets2, 'g', lw=4.0)\n",
    "# efficient frontier\n",
    "cx = np.linspace(0.07747707, 0.5)\n",
    "plt.plot(cx, opt2[0] + opt2[1] * cx, lw=1.5)\n",
    "# capital market line\n",
    "plt.plot(opt2[2], f(opt2[2]), 'r*', markersize=15.0)\n",
    "plt.grid(True)\n",
    "plt.axhline(0, color='k', ls='-', lw=2.0)\n",
    "plt.axvline(0, color='k', ls='-', lw=2.0)\n",
    "plt.xlabel('expected volatility')\n",
    "plt.ylabel('expected return')\n",
    "####plt.colorbar(label='Sharpe ratio')"
   ]
  },
  {
   "cell_type": "code",
   "execution_count": 229,
   "metadata": {},
   "outputs": [],
   "source": [
    "## the investors target return 0.07 is not located on the expected returns array but the clossest return to that is 0.1033333333\n",
    "## it is located in array 0"
   ]
  },
  {
   "cell_type": "code",
   "execution_count": 230,
   "metadata": {},
   "outputs": [],
   "source": [
    "eretsy = erets2.flat"
   ]
  },
  {
   "cell_type": "code",
   "execution_count": 231,
   "metadata": {},
   "outputs": [
    {
     "data": {
      "text/plain": [
       "<numpy.flatiter at 0x1aad0ef63e0>"
      ]
     },
     "execution_count": 231,
     "metadata": {},
     "output_type": "execute_result"
    }
   ],
   "source": [
    "eretsy"
   ]
  },
  {
   "cell_type": "code",
   "execution_count": 263,
   "metadata": {},
   "outputs": [
    {
     "data": {
      "text/plain": [
       "(array([0], dtype=int64),)"
      ]
     },
     "execution_count": 263,
     "metadata": {},
     "output_type": "execute_result"
    }
   ],
   "source": [
    "np.where(eretsy == 0.10333333333333333)"
   ]
  },
  {
   "cell_type": "code",
   "execution_count": 264,
   "metadata": {},
   "outputs": [
    {
     "name": "stdout",
     "output_type": "stream",
     "text": [
      "[0.03313275 0.15905183 0.05659179 0.11471152 0.00313246 0.19745754\n",
      " 0.19358206 0.00718295 0.205668   0.02948909]\n"
     ]
    }
   ],
   "source": [
    "print(all_weights[0,:])"
   ]
  },
  {
   "cell_type": "code",
   "execution_count": 234,
   "metadata": {},
   "outputs": [],
   "source": [
    "###the above are the weights if he expeccts a minimum return of 0.07"
   ]
  },
  {
   "cell_type": "code",
   "execution_count": 267,
   "metadata": {},
   "outputs": [
    {
     "data": {
      "text/plain": [
       "(array([90], dtype=int64),)"
      ]
     },
     "execution_count": 267,
     "metadata": {},
     "output_type": "execute_result"
    }
   ],
   "source": [
    "np.where(eretsw ==0.6)"
   ]
  },
  {
   "cell_type": "code",
   "execution_count": 268,
   "metadata": {},
   "outputs": [
    {
     "name": "stdout",
     "output_type": "stream",
     "text": [
      "[0.14659907 0.07645713 0.08368734 0.06686365 0.0747441  0.16557875\n",
      " 0.06170419 0.12716309 0.13696588 0.06023679]\n"
     ]
    }
   ],
   "source": [
    "list(eretsw)\n",
    "print(all_weights[90,:])"
   ]
  },
  {
   "cell_type": "code",
   "execution_count": null,
   "metadata": {},
   "outputs": [],
   "source": []
  }
 ],
 "metadata": {
  "kernelspec": {
   "display_name": "Python 3",
   "language": "python",
   "name": "python3"
  },
  "language_info": {
   "codemirror_mode": {
    "name": "ipython",
    "version": 3
   },
   "file_extension": ".py",
   "mimetype": "text/x-python",
   "name": "python",
   "nbconvert_exporter": "python",
   "pygments_lexer": "ipython3",
   "version": "3.7.3"
  }
 },
 "nbformat": 4,
 "nbformat_minor": 2
}
